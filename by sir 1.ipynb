{
 "cells": [
  {
   "cell_type": "code",
   "execution_count": 1,
   "id": "c8269e4f-d829-438e-bd40-bbb761069817",
   "metadata": {},
   "outputs": [
    {
     "name": "stdout",
     "output_type": "stream",
     "text": [
      "[1, 3, 4, 5]\n"
     ]
    }
   ],
   "source": [
    "#mylist.append('c')\n",
    "#mylist.insert(1,'two')\n",
    "#del mylist[1]\n",
    "mylist = [1,3,4,5]\n",
    "print(mylist)"
   ]
  },
  {
   "cell_type": "code",
   "execution_count": 2,
   "id": "69017914-4ed8-4ada-bbb4-e822d8d4bc3c",
   "metadata": {},
   "outputs": [],
   "source": [
    "del mylist\n"
   ]
  },
  {
   "cell_type": "code",
   "execution_count": 3,
   "id": "f99d0070-76d2-4bca-a1d2-d8a86851e636",
   "metadata": {},
   "outputs": [
    {
     "name": "stdout",
     "output_type": "stream",
     "text": [
      "python\n",
      "c\n",
      "java\n",
      "1\n",
      "2\n",
      "3\n",
      "4\n",
      "5\n"
     ]
    }
   ],
   "source": [
    "#looping \n",
    "mylist = ['python','c','java']\n",
    "for x in mylist:\n",
    "    print(x)\n",
    "\n",
    "list = [1,2,3,4,5]\n",
    "for i in list:\n",
    "    print(i)"
   ]
  },
  {
   "cell_type": "code",
   "execution_count": 4,
   "id": "708b5d3e-9bf8-4a26-abe3-220654fd33c3",
   "metadata": {},
   "outputs": [
    {
     "name": "stdout",
     "output_type": "stream",
     "text": [
      "1\n",
      "2\n",
      "3\n"
     ]
    }
   ],
   "source": [
    "for i in list:\n",
    "    print(i)\n",
    "    if i==3:\n",
    "        break"
   ]
  },
  {
   "cell_type": "code",
   "execution_count": 9,
   "id": "75ed05ee-9581-4019-b280-66dcf99beb9e",
   "metadata": {},
   "outputs": [],
   "source": [
    "for i in list: \n",
    "    if i==3:\n",
    "        continue\n",
    "        print(i)"
   ]
  },
  {
   "cell_type": "code",
   "execution_count": 10,
   "id": "d0ff29cc-da3a-485b-808a-c2dcd0b58082",
   "metadata": {},
   "outputs": [
    {
     "name": "stdout",
     "output_type": "stream",
     "text": [
      "0\n",
      "1\n",
      "2\n",
      "3\n",
      "4\n"
     ]
    }
   ],
   "source": [
    "#for i in range(list[])\n",
    "r=range(5)\n",
    "for i in r:\n",
    "    print(i)"
   ]
  },
  {
   "cell_type": "code",
   "execution_count": 12,
   "id": "34565029-b07b-4b1f-966d-b9651fb0fb7d",
   "metadata": {},
   "outputs": [
    {
     "name": "stdout",
     "output_type": "stream",
     "text": [
      "1\n",
      "2\n",
      "3\n",
      "4\n"
     ]
    }
   ],
   "source": [
    "r=range(1,5)\n",
    "for i in r:\n",
    "    print(i)"
   ]
  },
  {
   "cell_type": "code",
   "execution_count": 13,
   "id": "124dabaa-9450-421b-abd1-58b5e719d3be",
   "metadata": {},
   "outputs": [
    {
     "name": "stdout",
     "output_type": "stream",
     "text": [
      "1\n",
      "3\n"
     ]
    }
   ],
   "source": [
    "r=range(1,5,2)\n",
    "for i in r:\n",
    "    print(i)"
   ]
  },
  {
   "cell_type": "code",
   "execution_count": 14,
   "id": "a4ba47e9-ab63-4551-b4b0-c91d2218df93",
   "metadata": {},
   "outputs": [],
   "source": [
    "#for i in range(len(list)):\n",
    "#print (list[i])"
   ]
  },
  {
   "cell_type": "code",
   "execution_count": 15,
   "id": "cbaa954b-1857-4e14-99d9-101c7fee2942",
   "metadata": {},
   "outputs": [
    {
     "name": "stdout",
     "output_type": "stream",
     "text": [
      "java\n",
      "pthon\n",
      "math\n",
      "game\n"
     ]
    }
   ],
   "source": [
    "list=['java','pthon','math','game']\n",
    "for a in list:\n",
    "    print(a)"
   ]
  },
  {
   "cell_type": "code",
   "execution_count": 16,
   "id": "0f1d640b-47ec-4cb5-a40f-5af36613939e",
   "metadata": {},
   "outputs": [
    {
     "data": {
      "text/plain": [
       "['java', 'pthon', 'math', 'game']"
      ]
     },
     "execution_count": 16,
     "metadata": {},
     "output_type": "execute_result"
    }
   ],
   "source": [
    "newlist=[]\n",
    "list"
   ]
  },
  {
   "cell_type": "code",
   "execution_count": 19,
   "id": "2e52ab7a-022f-44ae-bcc5-5a4c138efb9b",
   "metadata": {},
   "outputs": [
    {
     "data": {
      "text/plain": [
       "['java', 'math', 'game', 'java', 'math', 'game', 'java', 'math', 'game']"
      ]
     },
     "execution_count": 19,
     "metadata": {},
     "output_type": "execute_result"
    }
   ],
   "source": [
    "for i in list:\n",
    "    if 'a' in i:\n",
    "        newlist.append(i)\n",
    "newlist"
   ]
  },
  {
   "cell_type": "code",
   "execution_count": 20,
   "id": "967c8aa3-9026-47f4-8581-dd058f5db956",
   "metadata": {},
   "outputs": [
    {
     "data": {
      "text/plain": [
       "['java', 'python', 'math']"
      ]
     },
     "execution_count": 20,
     "metadata": {},
     "output_type": "execute_result"
    }
   ],
   "source": [
    "list=['java','python','math',]\n",
    "list"
   ]
  },
  {
   "cell_type": "code",
   "execution_count": 22,
   "id": "4c49d2ac-c981-47b9-a74e-ecf767c0a13b",
   "metadata": {},
   "outputs": [
    {
     "data": {
      "text/plain": [
       "['java', 'python', 'math']"
      ]
     },
     "execution_count": 22,
     "metadata": {},
     "output_type": "execute_result"
    }
   ],
   "source": [
    "for i in list:\n",
    "    if 'vowel' in i:\n",
    "        newlist.append(i)\n",
    "list"
   ]
  },
  {
   "cell_type": "code",
   "execution_count": 23,
   "id": "32fba2bb-c4b4-4a67-a3d2-fed5337bbf4f",
   "metadata": {},
   "outputs": [
    {
     "data": {
      "text/plain": [
       "['s', 'a', 'b', 'e', 'p', 'o', 'i']"
      ]
     },
     "execution_count": 23,
     "metadata": {},
     "output_type": "execute_result"
    }
   ],
   "source": [
    "list=['s','a','b','e','p','o','i']\n",
    "list"
   ]
  },
  {
   "cell_type": "code",
   "execution_count": 25,
   "id": "e8bca465-ae98-4c6a-8dd2-eebba1d44785",
   "metadata": {},
   "outputs": [
    {
     "data": {
      "text/plain": [
       "['s', 'a', 'b', 'e', 'p', 'o', 'i']"
      ]
     },
     "execution_count": 25,
     "metadata": {},
     "output_type": "execute_result"
    }
   ],
   "source": [
    "for i in list:\n",
    "    if 'vowel' in i:\n",
    "        newlist.append(i)\n",
    "list"
   ]
  },
  {
   "cell_type": "code",
   "execution_count": 26,
   "id": "bf91dd72-3cf7-401b-8558-b45a34d2f619",
   "metadata": {},
   "outputs": [
    {
     "name": "stdout",
     "output_type": "stream",
     "text": [
      "Yes\n"
     ]
    }
   ],
   "source": [
    "newlist \n",
    "['java','python']\n",
    "if 'a' in 'java' and 'v' in 'java':\n",
    "    print('Yes')"
   ]
  },
  {
   "cell_type": "code",
   "execution_count": 27,
   "id": "af2d9bfc-97d7-443f-9562-5227b944b65c",
   "metadata": {},
   "outputs": [
    {
     "name": "stdout",
     "output_type": "stream",
     "text": [
      "yes\n"
     ]
    }
   ],
   "source": [
    "if 'n' in 'python' and 'j' in 'java':\n",
    "    print('yes')"
   ]
  },
  {
   "cell_type": "code",
   "execution_count": 29,
   "id": "84a03982-4cc8-42e3-9711-b50b421eaf66",
   "metadata": {},
   "outputs": [
    {
     "name": "stdout",
     "output_type": "stream",
     "text": [
      "this is iteration, i is set to0\n",
      "goodbye\n",
      "this is iteration, i is set to1\n",
      "goodbye\n",
      "this is iteration, i is set to2\n",
      "goodbye\n",
      "this is iteration, i is set to3\n",
      "goodbye\n",
      "this is iteration, i is set to4\n",
      "goodbye\n"
     ]
    }
   ],
   "source": [
    "#print('hello!')\n",
    "i=0 \n",
    "while i<5:\n",
    "    print('this is iteration, i is set to' + str(i))\n",
    "    i=i+1\n",
    "    print('goodbye')"
   ]
  },
  {
   "cell_type": "code",
   "execution_count": 32,
   "id": "d5c54b8b-5e8b-4acd-9ba6-718500953099",
   "metadata": {},
   "outputs": [
    {
     "name": "stdout",
     "output_type": "stream",
     "text": [
      "0\n",
      "1\n",
      "3\n",
      "6\n",
      "10\n",
      "15\n",
      "21\n",
      "28\n",
      "36\n",
      "45\n",
      "55\n",
      "66\n",
      "78\n",
      "91\n",
      "105\n",
      "120\n",
      "136\n",
      "153\n",
      "171\n",
      "190\n",
      "210\n",
      "231\n",
      "253\n",
      "276\n",
      "300\n",
      "325\n",
      "351\n",
      "378\n",
      "406\n",
      "435\n",
      "465\n",
      "496\n",
      "528\n",
      "561\n",
      "595\n",
      "630\n",
      "666\n",
      "703\n",
      "741\n",
      "780\n",
      "820\n",
      "861\n",
      "903\n",
      "946\n",
      "990\n",
      "1035\n",
      "1081\n",
      "1128\n",
      "1176\n",
      "1225\n",
      "1275\n",
      "1326\n",
      "1378\n",
      "1431\n",
      "1485\n",
      "1540\n",
      "1596\n",
      "1653\n",
      "1711\n",
      "1770\n",
      "1830\n",
      "1891\n",
      "1953\n",
      "2016\n",
      "2080\n",
      "2145\n",
      "2211\n",
      "2278\n",
      "2346\n",
      "2415\n",
      "2485\n",
      "2556\n",
      "2628\n",
      "2701\n",
      "2775\n",
      "2850\n",
      "2926\n",
      "3003\n",
      "3081\n",
      "3160\n",
      "3240\n",
      "3321\n",
      "3403\n",
      "3486\n",
      "3570\n",
      "3655\n",
      "3741\n",
      "3828\n",
      "3916\n",
      "4005\n",
      "4095\n",
      "4186\n",
      "4278\n",
      "4371\n",
      "4465\n",
      "4560\n",
      "4656\n",
      "4753\n",
      "4851\n",
      "4950\n",
      "5050\n"
     ]
    }
   ],
   "source": [
    "total=0\n",
    "for n in range(101):\n",
    "    total=total+n\n",
    "    print(total)"
   ]
  },
  {
   "cell_type": "code",
   "execution_count": 57,
   "id": "78bee3dc-0f3b-43c5-bc9c-b5c6ad1fd8d2",
   "metadata": {},
   "outputs": [
    {
     "name": "stdin",
     "output_type": "stream",
     "text": [
      "input a vowel character: i\n"
     ]
    },
    {
     "name": "stdout",
     "output_type": "stream",
     "text": [
      "i\n"
     ]
    },
    {
     "name": "stdin",
     "output_type": "stream",
     "text": [
      "input a vowel character: p\n"
     ]
    },
    {
     "name": "stdout",
     "output_type": "stream",
     "text": [
      "not a vowel\n"
     ]
    }
   ],
   "source": [
    "while True:\n",
    "    ch=input('input a vowel character:')\n",
    "    if ch in 'aeiouAEIOU':\n",
    "        print(ch)\n",
    "    else:\n",
    "        print('not a vowel')\n",
    "        break"
   ]
  },
  {
   "cell_type": "code",
   "execution_count": 60,
   "id": "d376d3ef-dc49-447e-953e-517112c81134",
   "metadata": {},
   "outputs": [
    {
     "name": "stdin",
     "output_type": "stream",
     "text": [
      "enter any vowel: A\n"
     ]
    },
    {
     "name": "stdout",
     "output_type": "stream",
     "text": [
      "A\n"
     ]
    },
    {
     "name": "stdin",
     "output_type": "stream",
     "text": [
      "enter any vowel: G\n"
     ]
    },
    {
     "name": "stdout",
     "output_type": "stream",
     "text": [
      "not a vowel\n"
     ]
    }
   ],
   "source": [
    "while True:\n",
    "    ch=input('enter any vowel:')\n",
    "    if ch in 'aeiouAEIOU':\n",
    "        print(ch)\n",
    "    else:\n",
    "        print('not a vowel')\n",
    "        break"
   ]
  },
  {
   "cell_type": "code",
   "execution_count": 21,
   "id": "b7fb6b6c-6e7c-4a2a-9a93-e83a9b8cce9d",
   "metadata": {},
   "outputs": [
    {
     "name": "stdin",
     "output_type": "stream",
     "text": [
      "enter first number: 72\n",
      "enter second number: 18\n"
     ]
    },
    {
     "name": "stdout",
     "output_type": "stream",
     "text": [
      "18\n"
     ]
    }
   ],
   "source": [
    "a=int(input('enter first number:'))\n",
    "b=int(input('enter second number:'))\n",
    "gcd=find_gcd(a,b)\n",
    "def find_gcd(a,b):\n",
    "    a,b=b, a%b\n",
    "    return a \n",
    "print(gcd)\n"
   ]
  },
  {
   "cell_type": "code",
   "execution_count": 1,
   "id": "c7bcdde0-ea78-416e-a18f-175f8c8faf26",
   "metadata": {},
   "outputs": [
    {
     "name": "stdout",
     "output_type": "stream",
     "text": [
      "java\n"
     ]
    }
   ],
   "source": [
    "#tuple \n",
    "tuple=('python','c','java')\n",
    "print(tuple[2])"
   ]
  },
  {
   "cell_type": "code",
   "execution_count": 2,
   "id": "2cd58ad8-3f8f-42ea-b006-77c9a5d86dba",
   "metadata": {},
   "outputs": [],
   "source": [
    "#tuple +=tuple1 = tuple=tuple+tuple1\n",
    "#tuple=('scalar',)  use commas must "
   ]
  },
  {
   "cell_type": "code",
   "execution_count": 6,
   "id": "8d4d8e06-2631-4919-a4cf-9811e9c1a0cc",
   "metadata": {},
   "outputs": [
    {
     "name": "stdout",
     "output_type": "stream",
     "text": [
      "('python', 'c', 'java', 'scalar')\n"
     ]
    }
   ],
   "source": [
    "tuple=('python','c','java')\n",
    "tuple1=('scalar',)\n",
    "tuple+=tuple1\n",
    "print(tuple)"
   ]
  },
  {
   "cell_type": "code",
   "execution_count": 10,
   "id": "d45f25e4-590a-42bd-9177-0a23f45f1e2b",
   "metadata": {},
   "outputs": [
    {
     "name": "stdout",
     "output_type": "stream",
     "text": [
      "python\n",
      "c\n",
      "java\n"
     ]
    }
   ],
   "source": [
    "#we can unpack values from tuple \n",
    "tuple=('python','c','java')\n",
    "(first, second,third)=tuple\n",
    "print(first)\n",
    "print(second)\n",
    "print(third)"
   ]
  },
  {
   "cell_type": "code",
   "execution_count": 11,
   "id": "4ebc737b-114d-4199-ada9-d9913024d207",
   "metadata": {},
   "outputs": [
    {
     "name": "stdout",
     "output_type": "stream",
     "text": [
      "{'c', 'java', 'python'}\n"
     ]
    },
    {
     "data": {
      "text/plain": [
       "3"
      ]
     },
     "execution_count": 11,
     "metadata": {},
     "output_type": "execute_result"
    }
   ],
   "source": [
    "#sets = unorderd collection of unique items\n",
    "set= {'python','c','java'}\n",
    "print(set)\n",
    "len(set)"
   ]
  },
  {
   "cell_type": "code",
   "execution_count": 15,
   "id": "05d76bdc-9339-40c3-8962-f57b6a7269e6",
   "metadata": {},
   "outputs": [
    {
     "name": "stdout",
     "output_type": "stream",
     "text": [
      "{'c', 'java', 'python'}\n"
     ]
    }
   ],
   "source": [
    "set={'python','c','java','c'}\n",
    "print(set)"
   ]
  },
  {
   "cell_type": "code",
   "execution_count": 20,
   "id": "011d8623-0f2a-4da1-be47-d6cc2e8917c9",
   "metadata": {},
   "outputs": [
    {
     "ename": "SyntaxError",
     "evalue": "invalid syntax (2602002890.py, line 2)",
     "output_type": "error",
     "traceback": [
      "\u001b[1;36m  Cell \u001b[1;32mIn[20], line 2\u001b[1;36m\u001b[0m\n\u001b[1;33m    myset=set{num}\u001b[0m\n\u001b[1;37m             ^\u001b[0m\n\u001b[1;31mSyntaxError\u001b[0m\u001b[1;31m:\u001b[0m invalid syntax\n"
     ]
    }
   ],
   "source": [
    "num=[1,2,2,3,3,4,2,4,5,1]\n",
    "myset=set{num} \n",
    "mylist=list(myset)\n",
    "print(myset)"
   ]
  },
  {
   "cell_type": "code",
   "execution_count": 21,
   "id": "962205ec-0e12-4c3d-950c-e9e8cc83f904",
   "metadata": {},
   "outputs": [
    {
     "name": "stdout",
     "output_type": "stream",
     "text": [
      "{'c', 'java', 'python'}\n",
      "3\n",
      "c\n",
      "java\n",
      "python\n",
      "yes\n"
     ]
    }
   ],
   "source": [
    "myset={'python', 'c','java'}\n",
    "print(myset)\n",
    "print(len(myset))\n",
    "\n",
    "for x in myset: #loop through each item \n",
    "    print(x)\n",
    "\n",
    "\n",
    "if 'c' in myset:#check for an item \n",
    "    print('yes')\n",
    "\n"
   ]
  },
  {
   "cell_type": "code",
   "execution_count": 22,
   "id": "3016b826-64c4-4cc9-b273-9c3a733f48e2",
   "metadata": {},
   "outputs": [
    {
     "name": "stdout",
     "output_type": "stream",
     "text": [
      "{'c', 'java', 'python'}\n"
     ]
    }
   ],
   "source": [
    "#myset.add('x')\n",
    "#print(myset)\n",
    "\n",
    "#myset.remove('x)\n",
    "#myset.discard('x) = similar to remove\n",
    "#mysert.clear() #empties the set  \n",
    "print(myset)\n",
    "#del myset #deletes the set \n"
   ]
  },
  {
   "cell_type": "code",
   "execution_count": 26,
   "id": "d0d011cc-6fc6-4dac-a891-6052dc852017",
   "metadata": {},
   "outputs": [
    {
     "name": "stdout",
     "output_type": "stream",
     "text": [
      "{'c', 'math', 'java', 'python'}\n"
     ]
    }
   ],
   "source": [
    "myset={'python','c','java'}\n",
    "myset.add('math')\n",
    "print(myset)"
   ]
  },
  {
   "cell_type": "code",
   "execution_count": 29,
   "id": "ecf806f5-2f7e-408f-be0e-55510f70ee1e",
   "metadata": {},
   "outputs": [
    {
     "name": "stdout",
     "output_type": "stream",
     "text": [
      "{'java', 'python'}\n"
     ]
    }
   ],
   "source": [
    "myset={'python','c','java'}\n",
    "myset.remove('c')\n",
    "print(myset)"
   ]
  },
  {
   "cell_type": "code",
   "execution_count": 30,
   "id": "73bc47c8-2a91-4e5e-a64c-1fb1423e5a6f",
   "metadata": {},
   "outputs": [
    {
     "name": "stdout",
     "output_type": "stream",
     "text": [
      "{'scalar', 'java', 'math', 'python', 'c'}\n"
     ]
    }
   ],
   "source": [
    "myset = {'python','c','java'}\n",
    "yourset={'math','scalar'}\n",
    "myset.update(yourset)\n",
    "print(myset)"
   ]
  },
  {
   "cell_type": "code",
   "execution_count": 47,
   "id": "6bb9139b-9e68-4b97-8cd2-fdb34054591f",
   "metadata": {},
   "outputs": [
    {
     "ename": "SyntaxError",
     "evalue": "invalid syntax (2475903579.py, line 3)",
     "output_type": "error",
     "traceback": [
      "\u001b[1;36m  Cell \u001b[1;32mIn[47], line 3\u001b[1;36m\u001b[0m\n\u001b[1;33m    s=set{mylist}\u001b[0m\n\u001b[1;37m         ^\u001b[0m\n\u001b[1;31mSyntaxError\u001b[0m\u001b[1;31m:\u001b[0m invalid syntax\n"
     ]
    }
   ],
   "source": [
    "#can update set with list, tuple, etc.\n",
    "mylist['java','python','java','pyton']\n",
    "s=set{mylist}\n",
    "print(s)"
   ]
  },
  {
   "cell_type": "code",
   "execution_count": 33,
   "id": "689a69a4-df73-49ae-a243-9ac468362772",
   "metadata": {},
   "outputs": [
    {
     "name": "stdout",
     "output_type": "stream",
     "text": [
      "{'scalar', 'java', 'math', 'python', 'c'}\n"
     ]
    }
   ],
   "source": [
    "myset= {'python','c', 'java'}\n",
    "yourset={'math','scalar'}\n",
    "theirset={'haskel','javasript'}\n",
    "newset=myset.union(yourset)\n",
    "print(newset)"
   ]
  },
  {
   "cell_type": "code",
   "execution_count": 34,
   "id": "6c2957ee-4389-4c2b-95e6-82e7e6cfec68",
   "metadata": {},
   "outputs": [
    {
     "name": "stdout",
     "output_type": "stream",
     "text": [
      "{'scalar', 'haskel', 'javasript', 'java', 'math', 'python', 'c'}\n"
     ]
    }
   ],
   "source": [
    "newset=myset.union(yourset,theirset)\n",
    "print(newset)"
   ]
  },
  {
   "cell_type": "code",
   "execution_count": 35,
   "id": "0830fe85-573c-44d5-b54f-f9868a727c9f",
   "metadata": {},
   "outputs": [
    {
     "name": "stdout",
     "output_type": "stream",
     "text": [
      "{'python', 'java', 'c'}\n"
     ]
    }
   ],
   "source": [
    "anotherset=newset.intersection(myset)\n",
    "print(anotherset)"
   ]
  },
  {
   "cell_type": "code",
   "execution_count": 65,
   "id": "7469c2b6-742d-4e70-ba7c-44856cf45f01",
   "metadata": {},
   "outputs": [
    {
     "name": "stdout",
     "output_type": "stream",
     "text": [
      "Hello! I am a function.\n"
     ]
    }
   ],
   "source": [
    "#fuction runs when it is called; is reusable\n",
    "#called using name and argument ,  a function can have 0 or more argument\n",
    "#example of a function without any argument.\n",
    "def my_func():\n",
    "    print('Hello! I am a function.')\n",
    "my_func()"
   ]
  },
  {
   "cell_type": "code",
   "execution_count": 63,
   "id": "12b58e2a-8c46-4ff5-8415-3265083452c8",
   "metadata": {},
   "outputs": [
    {
     "name": "stdout",
     "output_type": "stream",
     "text": [
      "hellosurajchauhan\n"
     ]
    }
   ],
   "source": [
    "def my_func(firstname):\n",
    "    print('hello' + firstname + 'chauhan')\n",
    "my_func('suraj')"
   ]
  },
  {
   "cell_type": "code",
   "execution_count": 66,
   "id": "b19026bc-4358-4694-abcf-6dfc7360667c",
   "metadata": {},
   "outputs": [
    {
     "name": "stdout",
     "output_type": "stream",
     "text": [
      "30\n",
      "3\n",
      "11\n"
     ]
    }
   ],
   "source": [
    "#exmaple of a function with two argument\n",
    "def my_func(first, second):\n",
    "    print(first + second)\n",
    "\n",
    "my_func(10,20)\n",
    "my_func(1,2)\n",
    "my_func(5,6)"
   ]
  },
  {
   "cell_type": "code",
   "execution_count": 67,
   "id": "b8c1fd64-9fe1-4ee3-acfd-bcee68c896dc",
   "metadata": {},
   "outputs": [
    {
     "name": "stdout",
     "output_type": "stream",
     "text": [
      "I am fromSweden\n",
      "I am fromGermany\n",
      "I am fromIndia\n"
     ]
    }
   ],
   "source": [
    "def my_func(country='India'):\n",
    "    print('I am from' +country)\n",
    "\n",
    "my_func('Sweden')\n",
    "my_func('Germany')\n",
    "my_func()"
   ]
  },
  {
   "cell_type": "code",
   "execution_count": 79,
   "id": "4d34cc8e-3014-4014-aa41-bca438c7b912",
   "metadata": {},
   "outputs": [
    {
     "name": "stdout",
     "output_type": "stream",
     "text": [
      "['python', 'java', 'c']\n",
      "['python', 'math', 'c']\n"
     ]
    }
   ],
   "source": [
    "#passing list s parameter\n",
    "#modified the parameter\n",
    "def my_func(subj):\n",
    "    subj[1]='math'\n",
    "subjects = ['python', 'java', 'c']\n",
    "print(subjects)\n",
    "my_func(subjects)\n",
    "print(subjects)"
   ]
  },
  {
   "cell_type": "code",
   "execution_count": 80,
   "id": "6c8b1af5-e4bf-49bb-a95d-94c3d22cde5c",
   "metadata": {},
   "outputs": [
    {
     "name": "stdout",
     "output_type": "stream",
     "text": [
      "5\n",
      "5\n"
     ]
    }
   ],
   "source": [
    "def my_func(x):\n",
    "    x=10\n",
    "x=5\n",
    "print(x)\n",
    "my_func(x)\n",
    "print(x)"
   ]
  },
  {
   "cell_type": "code",
   "execution_count": 83,
   "id": "9c53ffc2-5a0d-4a59-8552-b50b9416a3d9",
   "metadata": {},
   "outputs": [
    {
     "name": "stdout",
     "output_type": "stream",
     "text": [
      "50\n"
     ]
    }
   ],
   "source": [
    "def multiply_five(x):\n",
    "    return 5*x\n",
    "\n",
    "M=multiply_five(10)\n",
    "print(M)"
   ]
  },
  {
   "cell_type": "code",
   "execution_count": 84,
   "id": "c3fbd050-5f38-4588-8452-27aa03efed2b",
   "metadata": {},
   "outputs": [
    {
     "name": "stdout",
     "output_type": "stream",
     "text": [
      "1024\n"
     ]
    }
   ],
   "source": [
    "def multiply_five(x):\n",
    "    return 2**x\n",
    "m=multiply_five(10)\n",
    "print(m)"
   ]
  },
  {
   "cell_type": "code",
   "execution_count": 3,
   "id": "56ddf02a-7561-4966-aab9-e65e1ffd7efe",
   "metadata": {},
   "outputs": [
    {
     "name": "stdout",
     "output_type": "stream",
     "text": [
      "maths\n",
      "java\n",
      "c\n"
     ]
    }
   ],
   "source": [
    "def my_func(subj):\n",
    "    for x in subj:\n",
    "        print(x)\n",
    "subjects=['python','java','c']\n",
    "subjects[0]='maths'\n",
    "my_func(subjects)"
   ]
  },
  {
   "cell_type": "code",
   "execution_count": 5,
   "id": "e599c6cb-e02c-47d3-95e7-9d09d3eb1ae2",
   "metadata": {},
   "outputs": [
    {
     "name": "stdout",
     "output_type": "stream",
     "text": [
      "python\n",
      "java\n",
      "c\n",
      "maths\n"
     ]
    }
   ],
   "source": [
    "def my_func(subj):\n",
    "    for x in subj:\n",
    "        print(x)\n",
    "subjects=['python','java','c']\n",
    "subjects.append('maths')\n",
    "my_func(subjects)"
   ]
  },
  {
   "cell_type": "code",
   "execution_count": 14,
   "id": "aa3b9de8-c5d5-46c6-af02-ae413da945c3",
   "metadata": {},
   "outputs": [
    {
     "name": "stdout",
     "output_type": "stream",
     "text": [
      "python\n",
      "java\n",
      "sports\n",
      "c\n"
     ]
    }
   ],
   "source": [
    "def my_func(subj):\n",
    "    for x in subj:\n",
    "        print(x)\n",
    "subjects=['python','java','c']\n",
    "subjects.insert(2,'sports')\n",
    "my_func(subjects)"
   ]
  },
  {
   "cell_type": "code",
   "execution_count": 15,
   "id": "9b9bd3b6-924f-4d25-a7d4-770968ec9804",
   "metadata": {},
   "outputs": [
    {
     "name": "stdout",
     "output_type": "stream",
     "text": [
      "the third id isgamma\n"
     ]
    }
   ],
   "source": [
    "#args- arbitrary arguments\n",
    "def my_func(*id):\n",
    "    print('the third id is' + id[2])\n",
    "\n",
    "my_func('alpha','beta','gamma')"
   ]
  },
  {
   "cell_type": "code",
   "execution_count": 16,
   "id": "5edf24d7-9d22-490b-98c5-eaabcb844c13",
   "metadata": {},
   "outputs": [
    {
     "ename": "IndexError",
     "evalue": "tuple index out of range",
     "output_type": "error",
     "traceback": [
      "\u001b[1;31m---------------------------------------------------------------------------\u001b[0m",
      "\u001b[1;31mIndexError\u001b[0m                                Traceback (most recent call last)",
      "Cell \u001b[1;32mIn[16], line 4\u001b[0m\n\u001b[0;32m      1\u001b[0m \u001b[38;5;28;01mdef\u001b[39;00m\u001b[38;5;250m \u001b[39m\u001b[38;5;21mmy_func\u001b[39m(\u001b[38;5;241m*\u001b[39m\u001b[38;5;28mid\u001b[39m):\n\u001b[0;32m      2\u001b[0m     \u001b[38;5;28mprint\u001b[39m(\u001b[38;5;124m'\u001b[39m\u001b[38;5;124mthe third id is\u001b[39m\u001b[38;5;124m'\u001b[39m \u001b[38;5;241m+\u001b[39m \u001b[38;5;28mid\u001b[39m[\u001b[38;5;241m3\u001b[39m])\n\u001b[1;32m----> 4\u001b[0m my_func(\u001b[38;5;124m'\u001b[39m\u001b[38;5;124malpha\u001b[39m\u001b[38;5;124m'\u001b[39m,\u001b[38;5;124m'\u001b[39m\u001b[38;5;124mbeta\u001b[39m\u001b[38;5;124m'\u001b[39m,\u001b[38;5;124m'\u001b[39m\u001b[38;5;124mgamma\u001b[39m\u001b[38;5;124m'\u001b[39m)\n",
      "Cell \u001b[1;32mIn[16], line 2\u001b[0m, in \u001b[0;36mmy_func\u001b[1;34m(*id)\u001b[0m\n\u001b[0;32m      1\u001b[0m \u001b[38;5;28;01mdef\u001b[39;00m\u001b[38;5;250m \u001b[39m\u001b[38;5;21mmy_func\u001b[39m(\u001b[38;5;241m*\u001b[39m\u001b[38;5;28mid\u001b[39m):\n\u001b[1;32m----> 2\u001b[0m     \u001b[38;5;28mprint\u001b[39m(\u001b[38;5;124m'\u001b[39m\u001b[38;5;124mthe third id is\u001b[39m\u001b[38;5;124m'\u001b[39m \u001b[38;5;241m+\u001b[39m \u001b[38;5;28mid\u001b[39m[\u001b[38;5;241m3\u001b[39m])\n",
      "\u001b[1;31mIndexError\u001b[0m: tuple index out of range"
     ]
    }
   ],
   "source": [
    "def my_func(*id):\n",
    "    print('the third id is' + id[3])\n",
    "\n",
    "my_func('alpha','beta','gamma')"
   ]
  },
  {
   "cell_type": "code",
   "execution_count": 18,
   "id": "b3929d96-a456-41d3-b97f-a6c0f7e58af3",
   "metadata": {},
   "outputs": [
    {
     "ename": "TypeError",
     "evalue": "my_func() got an unexpected keyword argument 'ch2'",
     "output_type": "error",
     "traceback": [
      "\u001b[1;31m---------------------------------------------------------------------------\u001b[0m",
      "\u001b[1;31mTypeError\u001b[0m                                 Traceback (most recent call last)",
      "Cell \u001b[1;32mIn[18], line 4\u001b[0m\n\u001b[0;32m      2\u001b[0m \u001b[38;5;28;01mdef\u001b[39;00m\u001b[38;5;250m \u001b[39m\u001b[38;5;21mmy_finc\u001b[39m(ch1,ch2):\n\u001b[0;32m      3\u001b[0m     \u001b[38;5;28mprint\u001b[39m(\u001b[38;5;124m'\u001b[39m\u001b[38;5;124mthe oldest child is\u001b[39m\u001b[38;5;124m'\u001b[39m\u001b[38;5;241m+\u001b[39mch1)\n\u001b[1;32m----> 4\u001b[0m my_func(ch2\u001b[38;5;241m=\u001b[39m\u001b[38;5;124m'\u001b[39m\u001b[38;5;124msuraj\u001b[39m\u001b[38;5;124m'\u001b[39m,ch1\u001b[38;5;241m=\u001b[39m\u001b[38;5;124m'\u001b[39m\u001b[38;5;124msujeet\u001b[39m\u001b[38;5;124m'\u001b[39m)\n",
      "\u001b[1;31mTypeError\u001b[0m: my_func() got an unexpected keyword argument 'ch2'"
     ]
    }
   ],
   "source": [
    "#keyword arguments \n",
    "def my_finc(ch1,ch2):\n",
    "    print('the oldest child is'+ch1)\n",
    "my_func(ch2='suraj',ch1='sujeet')"
   ]
  },
  {
   "cell_type": "code",
   "execution_count": 19,
   "id": "65dd09f6-4797-4db3-84bb-3382e9fbed96",
   "metadata": {},
   "outputs": [
    {
     "name": "stdout",
     "output_type": "stream",
     "text": [
      "the oldest child is sujeet\n"
     ]
    }
   ],
   "source": [
    "def my_func(suraj,sujeet,ayush):\n",
    "    print('the oldest child is '+suraj)\n",
    "\n",
    "my_func('sujeet','ayushh','suraj')"
   ]
  },
  {
   "cell_type": "code",
   "execution_count": 23,
   "id": "9833db49-9980-4d91-b679-281f2189f6cf",
   "metadata": {},
   "outputs": [
    {
     "ename": "TypeError",
     "evalue": "my_func() got an unexpected keyword argument 'ch2'",
     "output_type": "error",
     "traceback": [
      "\u001b[1;31m---------------------------------------------------------------------------\u001b[0m",
      "\u001b[1;31mTypeError\u001b[0m                                 Traceback (most recent call last)",
      "Cell \u001b[1;32mIn[23], line 4\u001b[0m\n\u001b[0;32m      1\u001b[0m \u001b[38;5;28;01mdef\u001b[39;00m\u001b[38;5;250m \u001b[39m\u001b[38;5;21mmy_func\u001b[39m(mohan,rohan):\n\u001b[0;32m      2\u001b[0m     \u001b[38;5;28mprint\u001b[39m(ch1)\n\u001b[1;32m----> 4\u001b[0m my_func(ch2\u001b[38;5;241m=\u001b[39m\u001b[38;5;124m'\u001b[39m\u001b[38;5;124mmohan\u001b[39m\u001b[38;5;124m'\u001b[39m,ch1\u001b[38;5;241m=\u001b[39m\u001b[38;5;124m'\u001b[39m\u001b[38;5;124mrohan\u001b[39m\u001b[38;5;124m'\u001b[39m)\n",
      "\u001b[1;31mTypeError\u001b[0m: my_func() got an unexpected keyword argument 'ch2'"
     ]
    }
   ],
   "source": [
    "def my_func(mohan,rohan):\n",
    "    print(ch1)\n",
    "\n",
    "my_func(ch2='mohan',ch1='rohan')"
   ]
  },
  {
   "cell_type": "code",
   "execution_count": 24,
   "id": "3a91d6a2-cdf3-4410-9efa-95e453ccc53d",
   "metadata": {},
   "outputs": [
    {
     "name": "stdout",
     "output_type": "stream",
     "text": [
      "{'ram': 15, 'shyam': 16, 'mohan': 17}\n",
      "16\n"
     ]
    }
   ],
   "source": [
    "#dictionary,muttable\n",
    "#key:value\n",
    "my_dict ={'ram':15,'shyam':16,'mohan':17}\n",
    "print(my_dict)\n",
    "print(my_dict['shyam'])\n",
    "my_dict['sohan']=[15,17,16]"
   ]
  },
  {
   "cell_type": "code",
   "execution_count": 25,
   "id": "ef6eea2f-7993-4ce4-b021-742642e98aad",
   "metadata": {},
   "outputs": [
    {
     "name": "stdout",
     "output_type": "stream",
     "text": [
      "16\n"
     ]
    }
   ],
   "source": [
    "#dictionary,muttable\n",
    "#key:value\n",
    "my_dict ={'ram':15,'shyam':16,'mohan':17}\n",
    "\n",
    "print(my_dict['shyam'])\n"
   ]
  },
  {
   "cell_type": "code",
   "execution_count": 37,
   "id": "52527350-0567-47be-9bab-4380703533f6",
   "metadata": {},
   "outputs": [
    {
     "name": "stdout",
     "output_type": "stream",
     "text": [
      "{'ram': 15, 'shyam': 16, 'mohan': 17, 'sohan': 18}\n"
     ]
    }
   ],
   "source": [
    "#dictionary,muttable\n",
    "#key:value\n",
    "my_dict ={'ram':15,'shyam':16,'mohan':17}\n",
    "\n",
    "my_dict['sohan']=18\n",
    "print(my_dict)"
   ]
  },
  {
   "cell_type": "code",
   "execution_count": 33,
   "id": "6444f945-bda6-421a-8eaf-2e91ec2272ef",
   "metadata": {},
   "outputs": [
    {
     "name": "stdout",
     "output_type": "stream",
     "text": [
      "{'maths': 25, 'python': 34, 'c': 30, 'java': 35}\n"
     ]
    }
   ],
   "source": [
    "my_dict={'maths':25,'python': 34,'c':30,'java':35}\n",
    "print(my_dict)"
   ]
  },
  {
   "cell_type": "code",
   "execution_count": 34,
   "id": "66604c5a-bf07-42bd-8e31-d09a1f1b3c85",
   "metadata": {},
   "outputs": [
    {
     "name": "stdout",
     "output_type": "stream",
     "text": [
      "35\n"
     ]
    }
   ],
   "source": [
    "my_dict={'maths':25,'python': 34,'c':30,'java':35}\n",
    "print(my_dict['java'])"
   ]
  },
  {
   "cell_type": "code",
   "execution_count": 36,
   "id": "c7299259-8e56-4bf3-9377-8be2a969a6ae",
   "metadata": {},
   "outputs": [
    {
     "name": "stdout",
     "output_type": "stream",
     "text": [
      "{'maths': 25, 'python': 34, 'c': 30, 'java': 35, 'sports': 28}\n"
     ]
    }
   ],
   "source": [
    "my_dict={'maths':25,'python': 34,'c':30,'java':35}\n",
    "my_dict['sports']=28\n",
    "print(my_dict)"
   ]
  },
  {
   "cell_type": "code",
   "execution_count": 39,
   "id": "71a76273-9dfd-4092-9c47-41fe87a233b6",
   "metadata": {},
   "outputs": [
    {
     "name": "stdout",
     "output_type": "stream",
     "text": [
      "dict_keys(['maths', 'python', 'c', 'java'])\n"
     ]
    }
   ],
   "source": [
    "my_dict={'maths':25,'python': 34,'c':30,'java':35}\n",
    "print(my_dict.keys())"
   ]
  },
  {
   "cell_type": "code",
   "execution_count": 40,
   "id": "7390e8f8-d159-40ec-bcef-0f47c671bbfa",
   "metadata": {},
   "outputs": [
    {
     "name": "stdout",
     "output_type": "stream",
     "text": [
      "dict_values([25, 34, 30, 35])\n"
     ]
    }
   ],
   "source": [
    "my_dict={'maths':25,'python': 34,'c':30,'java':35}\n",
    "print(my_dict.values())"
   ]
  },
  {
   "cell_type": "code",
   "execution_count": 42,
   "id": "bff6b6fb-1ce9-496b-b693-18f09c8271ae",
   "metadata": {},
   "outputs": [
    {
     "name": "stdout",
     "output_type": "stream",
     "text": [
      "dict_items([('maths', 25), ('python', 34), ('c', 30), ('java', 35)])\n"
     ]
    }
   ],
   "source": [
    "#returns a list of items as tuples.\n",
    "my_dict={'maths':25,'python': 34,'c':30,'java':35}\n",
    "print(my_dict.items())"
   ]
  },
  {
   "cell_type": "code",
   "execution_count": 43,
   "id": "412dc497-ee88-4b03-8c80-3d96031d491e",
   "metadata": {},
   "outputs": [
    {
     "name": "stdout",
     "output_type": "stream",
     "text": [
      "yes\n"
     ]
    }
   ],
   "source": [
    "#check if a key is present in the dictionary .\n",
    "my_dict={'maths':25,'python': 34,'c':30,'java':35}\n",
    "if 'maths' in my_dict:\n",
    "    print('yes')"
   ]
  },
  {
   "cell_type": "code",
   "execution_count": 44,
   "id": "4597988e-9caf-4e9c-9089-8a132f0b2c40",
   "metadata": {},
   "outputs": [
    {
     "name": "stdout",
     "output_type": "stream",
     "text": [
      "{'maths': 25, 'python': 34, 'java': 35}\n"
     ]
    }
   ],
   "source": [
    "my_dict={'maths':25,'python': 34,'c':30,'java':35}\n",
    "del my_dict['c']\n",
    "print(my_dict)"
   ]
  },
  {
   "cell_type": "code",
   "execution_count": 45,
   "id": "5d33a2c7-960d-4ba2-87b9-b8273547d497",
   "metadata": {},
   "outputs": [],
   "source": [
    "#delete an item \n",
    "#del my_dict['x']"
   ]
  },
  {
   "cell_type": "code",
   "execution_count": 47,
   "id": "8bc1c335-bdce-47a7-805e-3dd293d6d2c4",
   "metadata": {},
   "outputs": [],
   "source": [
    "#loop through\n",
    "#for i in my_dict:\n",
    "        #print(i)\n"
   ]
  },
  {
   "cell_type": "code",
   "execution_count": 48,
   "id": "e99901a5-dca1-4409-9512-885fd930dfce",
   "metadata": {},
   "outputs": [
    {
     "name": "stdout",
     "output_type": "stream",
     "text": [
      "maths\n",
      "python\n",
      "c\n",
      "java\n"
     ]
    }
   ],
   "source": [
    "#for i in my_dict:   gives only key.\n",
    "my_dict={'maths':25,'python': 34,'c':30,'java':35}\n",
    "for i in my_dict:\n",
    "    print(i)"
   ]
  },
  {
   "cell_type": "code",
   "execution_count": 49,
   "id": "3b9a5475-8a72-42e9-8707-a66750234195",
   "metadata": {},
   "outputs": [
    {
     "name": "stdout",
     "output_type": "stream",
     "text": [
      "25\n",
      "34\n",
      "30\n",
      "35\n"
     ]
    }
   ],
   "source": [
    "#for i in my_dict.values():  gives values and for key replace value with key.\n",
    "my_dict={'maths':25,'python': 34,'c':30,'java':35}\n",
    "for i in my_dict.values():\n",
    "    print(i)"
   ]
  },
  {
   "cell_type": "code",
   "execution_count": 50,
   "id": "63bde89d-0bbe-4465-a608-fd85bae6b2b2",
   "metadata": {},
   "outputs": [
    {
     "name": "stdout",
     "output_type": "stream",
     "text": [
      "('maths', 25)\n",
      "('python', 34)\n",
      "('c', 30)\n",
      "('java', 35)\n"
     ]
    }
   ],
   "source": [
    "#for i in my_dict.items():  gives both key and values.\n",
    "my_dict={'maths':25,'python': 34,'c':30,'java':35}\n",
    "for i in my_dict.items():\n",
    "    print(i)\n"
   ]
  },
  {
   "cell_type": "code",
   "execution_count": 51,
   "id": "e29d1206-98ea-4bfb-96ec-6670020d51f8",
   "metadata": {},
   "outputs": [],
   "source": [
    "#files \n",
    "#we can creae, read, update,and delete files. \n",
    "#before working on a fie, you need to open() it.\n",
    "#f = open('demo.txt')    # f is file handle or file object.\n",
    "#r=f.read ()    #reads the whole file .\n",
    "#print(r)\n",
    "# f.close()   #should always close at the end .\n",
    "\n",
    "#f=open('myfiles') \n",
    "#line=f.readline()  #reads one line \n",
    "#print(line)"
   ]
  },
  {
   "cell_type": "code",
   "execution_count": null,
   "id": "ebfcda97-fd3f-4b1d-b6e9-018ecda1429f",
   "metadata": {},
   "outputs": [],
   "source": [
    "#run the following code.fix if there is a bug\n",
    "#f=open('demo.txt')\n",
    "#print(r)"
   ]
  }
 ],
 "metadata": {
  "kernelspec": {
   "display_name": "Python [conda env:base] *",
   "language": "python",
   "name": "conda-base-py"
  },
  "language_info": {
   "codemirror_mode": {
    "name": "ipython",
    "version": 3
   },
   "file_extension": ".py",
   "mimetype": "text/x-python",
   "name": "python",
   "nbconvert_exporter": "python",
   "pygments_lexer": "ipython3",
   "version": "3.13.5"
  }
 },
 "nbformat": 4,
 "nbformat_minor": 5
}
