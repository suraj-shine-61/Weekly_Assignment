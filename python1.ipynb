{
 "cells": [
  {
   "cell_type": "code",
   "execution_count": 1,
   "id": "9f059436-01a6-404d-9b06-17571f8c46bf",
   "metadata": {},
   "outputs": [
    {
     "name": "stdin",
     "output_type": "stream",
     "text": [
      "enter first number: 5\n"
     ]
    },
    {
     "name": "stdout",
     "output_type": "stream",
     "text": [
      "square of the 5 is 25\n"
     ]
    }
   ],
   "source": [
    "#calcutale the square of a num \n",
    "num=int(input('enter first number:'))\n",
    "square=num**2\n",
    "print('square of the',num,'is',square)"
   ]
  },
  {
   "cell_type": "code",
   "execution_count": 2,
   "id": "7db467ab-5e7a-4f98-8ec3-29f5440846fe",
   "metadata": {},
   "outputs": [
    {
     "name": "stdout",
     "output_type": "stream",
     "text": [
      "20\n"
     ]
    }
   ],
   "source": [
    "print(10*2)"
   ]
  },
  {
   "cell_type": "code",
   "execution_count": 4,
   "id": "fb885c25-c897-4cad-8513-ebf4cd933987",
   "metadata": {},
   "outputs": [
    {
     "name": "stdin",
     "output_type": "stream",
     "text": [
      "enter your age:  19\n"
     ]
    }
   ],
   "source": [
    "age=int(input('enter your age: '))"
   ]
  },
  {
   "cell_type": "code",
   "execution_count": 11,
   "id": "9b5e9521-6469-4a31-a6e8-8ee7ad5f4ef9",
   "metadata": {},
   "outputs": [
    {
     "name": "stdin",
     "output_type": "stream",
     "text": [
      "enter your first name: suraj\n"
     ]
    }
   ],
   "source": [
    "name=input('enter your first name:')"
   ]
  },
  {
   "cell_type": "code",
   "execution_count": 12,
   "id": "ab5b98f1-00eb-49cc-9554-234337e52fc7",
   "metadata": {},
   "outputs": [
    {
     "name": "stdin",
     "output_type": "stream",
     "text": [
      "enter your name: suraj\n",
      "enter your age: 18\n"
     ]
    }
   ],
   "source": [
    "name=input('enter your name:')\n",
    "age=input('enter your age:')"
   ]
  },
  {
   "cell_type": "code",
   "execution_count": 20,
   "id": "c6e8ae83-de7e-4664-82a7-57ff9ea8cb15",
   "metadata": {},
   "outputs": [
    {
     "name": "stdin",
     "output_type": "stream",
     "text": [
      "enter first number: 36\n",
      "enter second number: 15\n"
     ]
    },
    {
     "name": "stdout",
     "output_type": "stream",
     "text": [
      "the difference of 36 and 15 is 21\n"
     ]
    }
   ],
   "source": [
    "#program to subtract the smaller number from the larger number and \n",
    "# the difference.\n",
    "num1=int(input('enter first number:'))\n",
    "num2=int(input('enter second number:'))\n",
    "if num1>num2:\n",
    "    diff=num1-num2\n",
    "    print('the difference of',num1,'and',num2,'is',diff)\n",
    "else:\n",
    "    diff=num2-num1\n",
    "    print('the difference of',num1,'and',num2,'is',diff)"
   ]
  },
  {
   "cell_type": "code",
   "execution_count": 22,
   "id": "b1af25ac-2168-4d5d-9832-58187c129b2c",
   "metadata": {},
   "outputs": [
    {
     "name": "stdin",
     "output_type": "stream",
     "text": [
      "enter a number: 4\n"
     ]
    },
    {
     "name": "stdout",
     "output_type": "stream",
     "text": [
      "number is positive\n"
     ]
    }
   ],
   "source": [
    "number=int(input('enter a number:'))\n",
    "if number >0: \n",
    "    print('number is positive')\n",
    "else:\n",
    "    print('number is zero')\n",
    "    "
   ]
  },
  {
   "cell_type": "code",
   "execution_count": 3,
   "id": "b151a180-725b-4925-9311-364b2fe22677",
   "metadata": {},
   "outputs": [
    {
     "name": "stdout",
     "output_type": "stream",
     "text": [
      "2 is an even Number\n",
      "4 is an even Number\n",
      "6 is an even Number\n",
      "8 is an even Number\n",
      "10 is an even Number\n"
     ]
    }
   ],
   "source": [
    "#print even numbers in the given sequencecs\n",
    "numbers =[1,2,3,4,5,6,7,8,9,10]\n",
    "for num in numbers:\n",
    "    if (num%2) ==0:\n",
    "        print(num,'is an even Number')"
   ]
  },
  {
   "cell_type": "markdown",
   "id": "77a4f8e6-409a-4a3f-97f8-2d61a7f1a654",
   "metadata": {},
   "source": [
    "print('hello')"
   ]
  },
  {
   "cell_type": "code",
   "execution_count": 6,
   "id": "d3b92473-5ce2-41f5-acf5-7dbd165fba0c",
   "metadata": {},
   "outputs": [
    {
     "name": "stdin",
     "output_type": "stream",
     "text": [
      "enter a number: -6\n"
     ]
    },
    {
     "name": "stdout",
     "output_type": "stream",
     "text": [
      "number is negative\n"
     ]
    }
   ],
   "source": [
    "number=int(input('enter a number:'))\n",
    "if number > 0:\n",
    "    print('number is positive')\n",
    "elif number < 0:\n",
    "    print('number is negative')\n",
    "else:\n",
    "    print('number is zero')"
   ]
  },
  {
   "cell_type": "markdown",
   "id": "de11c89e-b15c-41a5-a648-3480a85b7b15",
   "metadata": {},
   "source": [
    "346"
   ]
  },
  {
   "cell_type": "code",
   "execution_count": 18,
   "id": "f9327412-c50d-4524-bfe5-e1cd3bc0e4e5",
   "metadata": {},
   "outputs": [
    {
     "name": "stdin",
     "output_type": "stream",
     "text": [
      "enter a number: 2\n"
     ]
    },
    {
     "name": "stdout",
     "output_type": "stream",
     "text": [
      "number is negative\n"
     ]
    }
   ],
   "source": [
    "number = int(input('enter a number:'))\n",
    "if number >= 5:\n",
    "    print('number is positive')\n",
    "elif number <= 3:\n",
    "    print('number is negative')\n",
    "else:\n",
    "    print('number is zero')\n"
   ]
  },
  {
   "cell_type": "code",
   "execution_count": 19,
   "id": "fac2d28d-3f53-4690-8cc6-bedc5936a279",
   "metadata": {},
   "outputs": [
    {
     "data": {
      "text/plain": [
       "[0, 1, 2, 3, 4, 5, 6, 7, 8, 9]"
      ]
     },
     "execution_count": 19,
     "metadata": {},
     "output_type": "execute_result"
    }
   ],
   "source": [
    "list(range(10))"
   ]
  },
  {
   "cell_type": "code",
   "execution_count": 20,
   "id": "91ea42ca-b292-412f-80a0-c72ddcd69f42",
   "metadata": {},
   "outputs": [
    {
     "data": {
      "text/plain": [
       "[2, 3, 4, 5, 6, 7, 8, 9]"
      ]
     },
     "execution_count": 20,
     "metadata": {},
     "output_type": "execute_result"
    }
   ],
   "source": [
    "#start a value given as 2 \n",
    "list(range(2,10))"
   ]
  },
  {
   "cell_type": "code",
   "execution_count": 23,
   "id": "545c4d6e-e9b8-4bba-89d2-4b129b9bc334",
   "metadata": {},
   "outputs": [
    {
     "data": {
      "text/plain": [
       "[0, 3, 6, 9, 12, 15, 18, 21, 24, 27]"
      ]
     },
     "execution_count": 23,
     "metadata": {},
     "output_type": "execute_result"
    }
   ],
   "source": [
    "list(range(0,30,3))"
   ]
  },
  {
   "cell_type": "code",
   "execution_count": 24,
   "id": "d22e3113-fa9a-4aca-94fe-74d81ca87594",
   "metadata": {},
   "outputs": [
    {
     "data": {
      "text/plain": [
       "[0, -1, -2, -3, -4, -5, -6, -7, -8]"
      ]
     },
     "execution_count": 24,
     "metadata": {},
     "output_type": "execute_result"
    }
   ],
   "source": [
    "#step value is -1. Hence , decreasing sequence is \n",
    "list(range(0,-9,-1))"
   ]
  },
  {
   "cell_type": "code",
   "execution_count": 28,
   "id": "6b46fe28-8223-41ef-a25d-0d605e6f888c",
   "metadata": {},
   "outputs": [
    {
     "name": "stdout",
     "output_type": "stream",
     "text": [
      "30\n",
      "60\n",
      "90\n",
      "120\n"
     ]
    }
   ],
   "source": [
    "#print multiples of 10 for numbers in a range \n",
    "for num in range(5):\n",
    "     if num > 0:\n",
    "       print(num*30)\n"
   ]
  },
  {
   "cell_type": "code",
   "execution_count": null,
   "id": "68cbe603-f4c8-4a41-8d5e-23e1c2cccadf",
   "metadata": {},
   "outputs": [],
   "source": [
    "num = int(input('enter number:'))\n",
    "rem=num % 2\n",
    "if(rem==0):\n",
    "    print('even') \n",
    "else:\n",
    "    print('odd')"
   ]
  },
  {
   "cell_type": "code",
   "execution_count": 2,
   "id": "786cabf7-2a99-4951-bd48-0beb5d6d894c",
   "metadata": {},
   "outputs": [
    {
     "name": "stdout",
     "output_type": "stream",
     "text": [
      "suraj\n"
     ]
    }
   ],
   "source": [
    "print('suraj')"
   ]
  },
  {
   "cell_type": "code",
   "execution_count": 6,
   "id": "57081f10-57d7-4a9f-972a-0fa37820b57a",
   "metadata": {},
   "outputs": [
    {
     "name": "stdin",
     "output_type": "stream",
     "text": [
      "enter number: 5\n"
     ]
    },
    {
     "name": "stdout",
     "output_type": "stream",
     "text": [
      "odd\n"
     ]
    }
   ],
   "source": [
    "num=int(input('enter number:'))\n",
    "rem=num%2\n",
    "if rem==0:\n",
    "    print('even')\n",
    "else:\n",
    "    print('odd')\n",
    "    "
   ]
  },
  {
   "cell_type": "code",
   "execution_count": 8,
   "id": "9d343e86-3599-4c3c-a6eb-3530f1a4d49d",
   "metadata": {},
   "outputs": [
    {
     "name": "stdin",
     "output_type": "stream",
     "text": [
      "enter first number: 35\n",
      "enter second number: 567\n",
      "enter third number: 587\n"
     ]
    },
    {
     "name": "stdout",
     "output_type": "stream",
     "text": [
      "third number is largest 587\n"
     ]
    }
   ],
   "source": [
    "a=int(input('enter first number:'))\n",
    "b=int(input('enter second number:'))\n",
    "c=int(input('enter third number:'))\n",
    "if a>b and a>c:\n",
    "    print('first number is largest',a)\n",
    "elif b>c:\n",
    "    print('second number is largest',b)\n",
    "else:\n",
    "    print('third number is largest',c)\n",
    "    \n"
   ]
  },
  {
   "cell_type": "code",
   "execution_count": 14,
   "id": "4984f476-8668-4423-8239-a6c131cbf50e",
   "metadata": {},
   "outputs": [
    {
     "name": "stdin",
     "output_type": "stream",
     "text": [
      "enter number: 3197481\n"
     ]
    },
    {
     "name": "stdout",
     "output_type": "stream",
     "text": [
      "3197481 multiple of 7\n"
     ]
    }
   ],
   "source": [
    "#WAP to check if a number is a multiple of 7 or not.\n",
    "num=int(input('enter number:'))\n",
    "rem=num%7\n",
    "if rem==0:\n",
    "    print(num,'multiple of 7')\n",
    "else:\n",
    "    print(num,'is not multiple of 7')"
   ]
  },
  {
   "cell_type": "code",
   "execution_count": 1,
   "id": "e0d80383-3629-49c8-a77e-67b8fa442ffa",
   "metadata": {},
   "outputs": [
    {
     "name": "stdout",
     "output_type": "stream",
     "text": [
      "[1.2, 3.4, 5.5, 3.6, 6.7]\n"
     ]
    }
   ],
   "source": [
    "list=[1.2,3.4,5.5,3.6,6.7]\n",
    "print(list)"
   ]
  },
  {
   "cell_type": "code",
   "execution_count": 2,
   "id": "1ded41d3-1562-4493-b9bb-c790e519285a",
   "metadata": {},
   "outputs": [
    {
     "name": "stdout",
     "output_type": "stream",
     "text": [
      "3.6\n"
     ]
    }
   ],
   "source": [
    "print(list[3])"
   ]
  },
  {
   "cell_type": "code",
   "execution_count": 3,
   "id": "a0959d2b-96e2-4475-a838-a60f90d3d359",
   "metadata": {},
   "outputs": [
    {
     "data": {
      "text/plain": [
       "5"
      ]
     },
     "execution_count": 3,
     "metadata": {},
     "output_type": "execute_result"
    }
   ],
   "source": [
    "len(list)"
   ]
  },
  {
   "cell_type": "code",
   "execution_count": 5,
   "id": "ef7ad93f-7909-4803-afd9-b89154bbfbb0",
   "metadata": {},
   "outputs": [
    {
     "name": "stdout",
     "output_type": "stream",
     "text": [
      "['suraj', 18, 'Ghazipur']\n"
     ]
    }
   ],
   "source": [
    "student=['suraj',18,'Ghazipur']\n",
    "print(student)"
   ]
  },
  {
   "cell_type": "code",
   "execution_count": 6,
   "id": "2411609b-9586-4656-995c-d1816f922565",
   "metadata": {},
   "outputs": [
    {
     "name": "stdout",
     "output_type": "stream",
     "text": [
      "18\n"
     ]
    }
   ],
   "source": [
    "print(student[1])"
   ]
  },
  {
   "cell_type": "code",
   "execution_count": 10,
   "id": "0dc4efff-9c9e-4302-96fe-b0204c49f20f",
   "metadata": {},
   "outputs": [
    {
     "name": "stdout",
     "output_type": "stream",
     "text": [
      "['suraj', 'mohan', 'raju']\n"
     ]
    }
   ],
   "source": [
    "list=['suraj','mohan', 'raju']\n",
    "print(list)"
   ]
  },
  {
   "cell_type": "code",
   "execution_count": 12,
   "id": "6b8220ad-48f7-4b29-960c-f8b2eedd9fa2",
   "metadata": {},
   "outputs": [
    {
     "name": "stdout",
     "output_type": "stream",
     "text": [
      "['suraj', 'mohan', 'raju', 'sujeet', 'sujeet']\n"
     ]
    }
   ],
   "source": [
    "list.append('sujeet')\n",
    "print(list)"
   ]
  },
  {
   "cell_type": "code",
   "execution_count": 13,
   "id": "84374613-9e83-4466-9628-4a222581626d",
   "metadata": {},
   "outputs": [
    {
     "name": "stdout",
     "output_type": "stream",
     "text": [
      "['suraj', 'ayush', 'raju', 'sujeet', 'sujeet']\n"
     ]
    }
   ],
   "source": [
    "list[1]='ayush'\n",
    "print(list)"
   ]
  },
  {
   "cell_type": "code",
   "execution_count": 14,
   "id": "91a81154-2256-4e39-a4da-2ed387f4b10b",
   "metadata": {},
   "outputs": [
    {
     "name": "stdout",
     "output_type": "stream",
     "text": [
      "[67, 75, 84, 93]\n"
     ]
    }
   ],
   "source": [
    "mark=[45,67,75,84,93]\n",
    "print(mark[1:])"
   ]
  },
  {
   "cell_type": "code",
   "execution_count": 15,
   "id": "5d1b0123-ce8b-4d95-8bf3-8237b6ada0a9",
   "metadata": {},
   "outputs": [
    {
     "name": "stdout",
     "output_type": "stream",
     "text": [
      "[75]\n"
     ]
    }
   ],
   "source": [
    "print(mark[2:3])"
   ]
  },
  {
   "cell_type": "code",
   "execution_count": 17,
   "id": "0892baca-2902-49f6-8e6c-667ed4fe3d70",
   "metadata": {},
   "outputs": [
    {
     "name": "stdout",
     "output_type": "stream",
     "text": [
      "[]\n"
     ]
    }
   ],
   "source": [
    "print(mark[-2:-4])"
   ]
  },
  {
   "cell_type": "code",
   "execution_count": 18,
   "id": "7253bd91-4692-4623-868b-216b82508eec",
   "metadata": {},
   "outputs": [
    {
     "name": "stdout",
     "output_type": "stream",
     "text": [
      "[76, 63]\n"
     ]
    }
   ],
   "source": [
    "mark=[85,94,76,63,48]\n",
    "print(mark[-3:-1])"
   ]
  },
  {
   "cell_type": "code",
   "execution_count": 20,
   "id": "899e2bd3-fa80-4583-add6-8d28680fbaad",
   "metadata": {},
   "outputs": [
    {
     "name": "stdout",
     "output_type": "stream",
     "text": [
      "[1, 2, 3, 4]\n"
     ]
    }
   ],
   "source": [
    "list=[1,2,3]\n",
    "list.append(4)\n",
    "print(list)"
   ]
  },
  {
   "cell_type": "code",
   "execution_count": 24,
   "id": "2e649c92-74f9-4b02-a3b9-9f68f3c04291",
   "metadata": {},
   "outputs": [
    {
     "name": "stdout",
     "output_type": "stream",
     "text": [
      "[1, 2, 3, 4]\n"
     ]
    }
   ],
   "source": [
    "list=[1,4,2,3]\n",
    "list.sort()\n",
    "print(list)"
   ]
  },
  {
   "cell_type": "code",
   "execution_count": 25,
   "id": "72def819-f1b3-4cb6-9750-54edfd5dd3be",
   "metadata": {},
   "outputs": [
    {
     "name": "stdout",
     "output_type": "stream",
     "text": [
      "[4, 3, 2, 1]\n"
     ]
    }
   ],
   "source": [
    "list=[2,3,1,4]\n",
    "list.sort(reverse=True)\n",
    "print(list)"
   ]
  },
  {
   "cell_type": "code",
   "execution_count": 26,
   "id": "6b185c9a-b777-430c-b49b-3f83cb8ff07a",
   "metadata": {},
   "outputs": [
    {
     "name": "stdout",
     "output_type": "stream",
     "text": [
      "[1, 2, 3, 4]\n"
     ]
    }
   ],
   "source": [
    "list.reverse()\n",
    "print(list)"
   ]
  },
  {
   "cell_type": "code",
   "execution_count": 28,
   "id": "d7b7a5e3-3148-4bcf-ba9a-838d40d8e724",
   "metadata": {},
   "outputs": [
    {
     "name": "stdout",
     "output_type": "stream",
     "text": [
      "['suraj', 2, 'sujeet', 'mohan', 5, 'ayush']\n"
     ]
    }
   ],
   "source": [
    "list=['suraj',2,'mohan',5,'ayush']\n",
    "list.insert(2,'sujeet')\n",
    "print(list)"
   ]
  },
  {
   "cell_type": "code",
   "execution_count": 29,
   "id": "f84dfe06-6a3d-465b-9cda-951ba439b41e",
   "metadata": {},
   "outputs": [
    {
     "name": "stdout",
     "output_type": "stream",
     "text": [
      "[2, 1, 1]\n"
     ]
    }
   ],
   "source": [
    "list=[2,1,3,1]\n",
    "list.pop(2)\n",
    "print(list) "
   ]
  },
  {
   "cell_type": "code",
   "execution_count": 35,
   "id": "32d3c441-bff2-4d6b-a239-06688c28c30d",
   "metadata": {},
   "outputs": [
    {
     "name": "stdout",
     "output_type": "stream",
     "text": [
      "3\n"
     ]
    }
   ],
   "source": [
    "tup=(1,2,3,4,2,1,2,1,3,4)\n",
    "print(tup.count(2))\n"
   ]
  },
  {
   "cell_type": "code",
   "execution_count": 2,
   "id": "df78ec5e-850c-4946-bc0e-45ddae1f7efa",
   "metadata": {},
   "outputs": [
    {
     "name": "stdout",
     "output_type": "stream",
     "text": [
      "{'name': 'suraj', 'subjects': ['python', 'c', 'java'], 'age': 18, 'is adult': True, 'marks': 89.5}\n"
     ]
    }
   ],
   "source": [
    "info={'name':'suraj',\n",
    "      'subjects':['python','c','java'],\n",
    "      'age':18,\n",
    "      'is adult':True,\n",
    "      'marks':89.5}\n",
    "print(info)"
   ]
  },
  {
   "cell_type": "code",
   "execution_count": 6,
   "id": "a50d8fc8-dd24-46c8-95ea-58ae5b728975",
   "metadata": {},
   "outputs": [
    {
     "name": "stdout",
     "output_type": "stream",
     "text": [
      "{'name': 'suraj chauhan', 'subjects': {'phy': 91, 'chem': 93, 'math': 85}}\n"
     ]
    }
   ],
   "source": [
    "student={'name':'suraj chauhan',\n",
    "         'subjects':{\n",
    "             'phy':91,\n",
    "            'chem':93,\n",
    "            'math':85}}\n",
    "print(student)"
   ]
  },
  {
   "cell_type": "code",
   "execution_count": 4,
   "id": "8460a200-29c2-43ec-a24d-78ce9bfe5592",
   "metadata": {},
   "outputs": [
    {
     "name": "stdout",
     "output_type": "stream",
     "text": [
      "{'name': 'suraj chauhan', 'subjects': {'phy': 91, 'chem': 93, 'math': 85}, 'city': 'Ghazipur', 'age': 18}\n"
     ]
    }
   ],
   "source": [
    "new_dict={'city':'Ghazipur','age':18}\n",
    "student.update(new_dict)\n",
    "print(student)"
   ]
  },
  {
   "cell_type": "code",
   "execution_count": 10,
   "id": "ac7bd9bb-be6e-4dfc-92c4-499d8d33eab2",
   "metadata": {},
   "outputs": [
    {
     "name": "stdin",
     "output_type": "stream",
     "text": [
      "enter a paragraph: my name is suraj chauhan .\n"
     ]
    },
    {
     "name": "stdout",
     "output_type": "stream",
     "text": [
      "Total letters:{letters}\n",
      "Total words: {words)\n"
     ]
    }
   ],
   "source": [
    "paragraph = input('enter a paragraph:')\n",
    "print('Total letters:')\n",
    "print('Total words:')\n",
    "                  "
   ]
  },
  {
   "cell_type": "code",
   "execution_count": 1,
   "id": "e1acd098-d109-4856-bc73-32054c44ee5a",
   "metadata": {},
   "outputs": [
    {
     "name": "stdout",
     "output_type": "stream",
     "text": [
      "{1, 2, 3, 4, 5, 'world', 'hello'}\n"
     ]
    }
   ],
   "source": [
    "collection={1,3,2,4,5,'hello','world'}\n",
    "print(collection)"
   ]
  },
  {
   "cell_type": "code",
   "execution_count": 2,
   "id": "a2ef877b-56b5-40df-a629-216e8a2090b7",
   "metadata": {},
   "outputs": [
    {
     "data": {
      "text/plain": [
       "7"
      ]
     },
     "execution_count": 2,
     "metadata": {},
     "output_type": "execute_result"
    }
   ],
   "source": [
    "len(collection)"
   ]
  },
  {
   "cell_type": "code",
   "execution_count": 5,
   "id": "f4a7d942-5c6d-4122-a920-29eb741f2ef6",
   "metadata": {},
   "outputs": [
    {
     "name": "stdout",
     "output_type": "stream",
     "text": [
      "{1, 2, 'suraj'}\n"
     ]
    }
   ],
   "source": [
    "collection=set()\n",
    "collection.add(1)\n",
    "collection.add(2)\n",
    "collection.add('suraj')\n",
    "print(collection)"
   ]
  },
  {
   "cell_type": "code",
   "execution_count": 6,
   "id": "9fa5acbb-e575-475a-9e97-ca1513ec3764",
   "metadata": {},
   "outputs": [
    {
     "data": {
      "text/plain": [
       "{1, 2, 3, 4, 5}"
      ]
     },
     "execution_count": 6,
     "metadata": {},
     "output_type": "execute_result"
    }
   ],
   "source": [
    "set1={1,2,3}\n",
    "set2={2,3,4,5}\n",
    "set1.union(set2)"
   ]
  },
  {
   "cell_type": "code",
   "execution_count": 7,
   "id": "fbabddc4-b170-40f0-8783-d17db3fe2b80",
   "metadata": {},
   "outputs": [
    {
     "data": {
      "text/plain": [
       "{2, 3}"
      ]
     },
     "execution_count": 7,
     "metadata": {},
     "output_type": "execute_result"
    }
   ],
   "source": [
    "set1.intersection(set2)"
   ]
  },
  {
   "cell_type": "code",
   "execution_count": 10,
   "id": "3cc43723-2bf3-4750-8876-72f4d5bb0c91",
   "metadata": {},
   "outputs": [
    {
     "name": "stdout",
     "output_type": "stream",
     "text": [
      "{'table': 'a piece of furniter', 'cat': 'a small animal'}\n"
     ]
    }
   ],
   "source": [
    "dict={'table':'a piece of furniter','cat':'a small animal'}\n",
    "print(dict)"
   ]
  },
  {
   "cell_type": "code",
   "execution_count": 13,
   "id": "4a730a73-6f2e-46c4-bfdf-ec664238b2b4",
   "metadata": {},
   "outputs": [
    {
     "name": "stdout",
     "output_type": "stream",
     "text": [
      "{'c', 'python', 'java', 'c++', 'javascript'}\n"
     ]
    }
   ],
   "source": [
    "set={'python','java','c++','python','javascript','java','python', 'java','c++','c'}\n",
    "print(set)"
   ]
  },
  {
   "cell_type": "code",
   "execution_count": 14,
   "id": "74aa3270-5062-489a-90a1-a18f04477b5a",
   "metadata": {},
   "outputs": [
    {
     "data": {
      "text/plain": [
       "5"
      ]
     },
     "execution_count": 14,
     "metadata": {},
     "output_type": "execute_result"
    }
   ],
   "source": [
    "len(set)"
   ]
  },
  {
   "cell_type": "code",
   "execution_count": 19,
   "id": "413cbb7e-57bf-40ba-8b49-a29187e9680d",
   "metadata": {},
   "outputs": [
    {
     "name": "stdin",
     "output_type": "stream",
     "text": [
      "enter math: 45\n",
      "enter phy: 3\n",
      "enter chem: 34\n"
     ]
    },
    {
     "name": "stdout",
     "output_type": "stream",
     "text": [
      "{'math': 45, 'phy': 3, 'chem': 34}\n"
     ]
    }
   ],
   "source": [
    "marks={}\n",
    "x=int(input('enter math:'))\n",
    "marks.update({'math':x})\n",
    "\n",
    "x=int(input('enter phy:'))\n",
    "marks.update({'phy':x})\n",
    "\n",
    "x=int(input('enter chem:'))\n",
    "marks.update({'chem':x})\n",
    "print(marks)"
   ]
  },
  {
   "cell_type": "code",
   "execution_count": 20,
   "id": "4f662aaa-995b-4de3-bbf9-40cc64b61688",
   "metadata": {},
   "outputs": [
    {
     "name": "stdout",
     "output_type": "stream",
     "text": [
      "{9}\n"
     ]
    }
   ],
   "source": [
    "set={9,9.0}\n",
    "print(set)"
   ]
  },
  {
   "cell_type": "code",
   "execution_count": 1,
   "id": "5005bf7e-da8e-4907-b76e-7707b3927d6a",
   "metadata": {},
   "outputs": [
    {
     "name": "stdout",
     "output_type": "stream",
     "text": [
      "hello\n",
      "2\n",
      "hello\n",
      "3\n",
      "hello\n",
      "4\n",
      "hello\n",
      "5\n",
      "hello\n",
      "6\n"
     ]
    }
   ],
   "source": [
    "count = 1\n",
    "while count <= 5 :\n",
    "    print('hello')\n",
    "    count+=1 \n",
    "    print(count)"
   ]
  },
  {
   "cell_type": "code",
   "execution_count": 2,
   "id": "6732a1f8-74c2-4cac-b109-0c3114c2ffae",
   "metadata": {},
   "outputs": [
    {
     "name": "stdout",
     "output_type": "stream",
     "text": [
      "hello\n",
      "hello\n",
      "hello\n",
      "hello\n",
      "hello\n"
     ]
    }
   ],
   "source": [
    "i=1\n",
    "while i<=5:\n",
    "    print(\"hello\")\n",
    "    i+=1"
   ]
  },
  {
   "cell_type": "code",
   "execution_count": 3,
   "id": "efab31ee-7ad4-434a-a26f-309d9a9ee5d7",
   "metadata": {},
   "outputs": [
    {
     "name": "stdout",
     "output_type": "stream",
     "text": [
      "0\n",
      "1\n",
      "2\n",
      "4\n",
      "5\n"
     ]
    }
   ],
   "source": [
    "i = 0\n",
    "while i<=5:\n",
    "    if i==3:\n",
    "        i+=1\n",
    "        continue\n",
    "    print(i)\n",
    "    i+=1"
   ]
  },
  {
   "cell_type": "code",
   "execution_count": 2,
   "id": "ed635b42-2d8b-4632-9476-0be63dfd354d",
   "metadata": {},
   "outputs": [
    {
     "name": "stdout",
     "output_type": "stream",
     "text": [
      "1\n",
      "3\n",
      "5\n",
      "7\n",
      "9\n"
     ]
    }
   ],
   "source": [
    "i=1 \n",
    "while i<=10:\n",
    "    if i%2==0:\n",
    "        i+=1\n",
    "        continue\n",
    "    print(i)\n",
    "    i+=1"
   ]
  },
  {
   "cell_type": "code",
   "execution_count": 3,
   "id": "6479de61-9bed-4341-a5db-6e2c2f37758c",
   "metadata": {},
   "outputs": [
    {
     "name": "stdout",
     "output_type": "stream",
     "text": [
      "2\n",
      "4\n",
      "6\n",
      "8\n",
      "10\n"
     ]
    }
   ],
   "source": [
    "i=1\n",
    "while i<=10:\n",
    "    if i%2!=0:\n",
    "        i+=1\n",
    "        continue\n",
    "    print(i)\n",
    "    i+=1"
   ]
  },
  {
   "cell_type": "code",
   "execution_count": 4,
   "id": "95e09d97-756a-429b-8ffa-1aca3ac6099e",
   "metadata": {},
   "outputs": [
    {
     "name": "stdout",
     "output_type": "stream",
     "text": [
      "1\n",
      "2\n",
      "3\n",
      "4\n"
     ]
    }
   ],
   "source": [
    "list =[1,2,3,4] \n",
    "for x in list:\n",
    "    print(x)"
   ]
  },
  {
   "cell_type": "code",
   "execution_count": 6,
   "id": "500edf07-f881-4378-937c-217dd29b3727",
   "metadata": {},
   "outputs": [
    {
     "name": "stdout",
     "output_type": "stream",
     "text": [
      "1\n",
      "2\n",
      "3\n",
      "4\n",
      "5\n",
      "6\n"
     ]
    }
   ],
   "source": [
    "tup=(1,2,3,4,5,6)\n",
    "for val in tup:\n",
    "    print(val)"
   ]
  },
  {
   "cell_type": "code",
   "execution_count": 8,
   "id": "7d01deab-5d10-4579-8954-b1c81bac024c",
   "metadata": {},
   "outputs": [
    {
     "name": "stdout",
     "output_type": "stream",
     "text": [
      "S\n",
      "u\n",
      "r\n",
      "a\n",
      "j\n",
      " \n",
      "C\n",
      "h\n",
      "a\n",
      "u\n",
      "h\n",
      "a\n",
      "n\n"
     ]
    }
   ],
   "source": [
    "str='Suraj Chauhan'\n",
    "for cha in str:\n",
    "    print(cha)"
   ]
  },
  {
   "cell_type": "code",
   "execution_count": 11,
   "id": "6eb0094c-bcaf-4d4e-8066-8dcd634c090e",
   "metadata": {},
   "outputs": [
    {
     "name": "stdout",
     "output_type": "stream",
     "text": [
      "s\n",
      "u\n",
      "r\n",
      "a\n",
      "j\n",
      " \n",
      "c\n",
      "h\n",
      "a\n",
      "u\n",
      "h\n",
      "a\n",
      "n\n",
      " \n",
      "o found\n"
     ]
    }
   ],
   "source": [
    "str = 'suraj chauhan of class'\n",
    "for cha in str:\n",
    "    if cha == 'o':\n",
    "        print('o found')\n",
    "        break\n",
    "    print(cha)\n",
    "else:\n",
    "    print('end')"
   ]
  },
  {
   "cell_type": "code",
   "execution_count": 12,
   "id": "9ebcd5e9-f08e-45fe-a83e-dd6e2e408dca",
   "metadata": {},
   "outputs": [
    {
     "name": "stdout",
     "output_type": "stream",
     "text": [
      "1\n",
      "4\n",
      "9\n",
      "25\n",
      "36\n",
      "49\n",
      "64\n",
      "81\n",
      "100\n"
     ]
    }
   ],
   "source": [
    "list=[1,4,9,25,36,49,64,81,100]\n",
    "for val in list:\n",
    "    print(val)"
   ]
  },
  {
   "cell_type": "code",
   "execution_count": 17,
   "id": "d0876712-7578-4528-90e9-f915c2a9cf00",
   "metadata": {},
   "outputs": [
    {
     "name": "stdout",
     "output_type": "stream",
     "text": [
      "number found at idx 5\n",
      "number found at idx 9\n"
     ]
    }
   ],
   "source": [
    "loop = (1,4,9,25,36,49,64,81,100,49)\n",
    "x=49\n",
    "\n",
    "idx=0\n",
    "for el in loop:\n",
    "    if el==x:\n",
    "        print('number found at idx',idx)\n",
    "    idx+=1"
   ]
  },
  {
   "cell_type": "code",
   "execution_count": 1,
   "id": "43a41237-9ff8-4591-a6cd-b9381df399dc",
   "metadata": {},
   "outputs": [
    {
     "name": "stdout",
     "output_type": "stream",
     "text": [
      "0\n",
      "1\n",
      "2\n",
      "3\n",
      "4\n",
      "5\n",
      "6\n",
      "7\n",
      "8\n"
     ]
    }
   ],
   "source": [
    "list = [1,2,3,4,453,63,25,63,65]\n",
    "idx=0\n",
    "for i in list:\n",
    "    if i==i:\n",
    "        print(idx)\n",
    "        idx+=1"
   ]
  },
  {
   "cell_type": "code",
   "execution_count": 3,
   "id": "fc7b8049-ac3b-4de0-ab27-e87897691170",
   "metadata": {},
   "outputs": [
    {
     "name": "stdout",
     "output_type": "stream",
     "text": [
      "0\n",
      "1\n",
      "2\n",
      "3\n",
      "4\n",
      "5\n",
      "6\n",
      "7\n",
      "8\n",
      "9\n",
      "10\n",
      "11\n",
      "12\n",
      "13\n",
      "14\n",
      "15\n",
      "16\n",
      "17\n",
      "18\n",
      "19\n",
      "20\n",
      "21\n",
      "22\n",
      "23\n",
      "24\n",
      "25\n",
      "26\n",
      "27\n",
      "28\n",
      "29\n",
      "30\n"
     ]
    }
   ],
   "source": [
    "i=0\n",
    "while i<=30:\n",
    "    print(i)\n",
    "    i+=1"
   ]
  },
  {
   "cell_type": "code",
   "execution_count": 4,
   "id": "6f52eb2e-b266-4b37-863b-b48d6cd8c102",
   "metadata": {},
   "outputs": [
    {
     "name": "stdout",
     "output_type": "stream",
     "text": [
      "1\n",
      "3\n"
     ]
    }
   ],
   "source": [
    "for el in range(1,5,2):\n",
    "    print(el)"
   ]
  },
  {
   "cell_type": "code",
   "execution_count": 5,
   "id": "b08cca6b-e229-4ace-8bde-9cd713b02e7c",
   "metadata": {},
   "outputs": [
    {
     "name": "stdout",
     "output_type": "stream",
     "text": [
      "1\n",
      "2\n",
      "3\n",
      "4\n"
     ]
    }
   ],
   "source": [
    "for el in range(1,5):\n",
    "    print(el)"
   ]
  },
  {
   "cell_type": "code",
   "execution_count": 6,
   "id": "c0ebb4d9-8ca4-4e3f-88cf-b8178fbdf674",
   "metadata": {},
   "outputs": [
    {
     "name": "stdout",
     "output_type": "stream",
     "text": [
      "range(0, 5)\n"
     ]
    }
   ],
   "source": [
    "print(range(5))"
   ]
  },
  {
   "cell_type": "code",
   "execution_count": 7,
   "id": "32138c35-7839-467e-9d21-adfcf328b088",
   "metadata": {},
   "outputs": [
    {
     "name": "stdout",
     "output_type": "stream",
     "text": [
      "0\n",
      "1\n",
      "2\n",
      "3\n",
      "4\n"
     ]
    }
   ],
   "source": [
    "seq=range(5)\n",
    "for i in seq:\n",
    "    print(i)"
   ]
  },
  {
   "cell_type": "code",
   "execution_count": 8,
   "id": "62797c66-8ac6-490c-ba68-cb34439f4ce4",
   "metadata": {},
   "outputs": [
    {
     "name": "stdout",
     "output_type": "stream",
     "text": [
      "0\n",
      "1\n",
      "2\n",
      "3\n",
      "4\n",
      "5\n",
      "6\n",
      "7\n",
      "8\n",
      "9\n"
     ]
    }
   ],
   "source": [
    "for i in range(10):\n",
    "    print(i)"
   ]
  },
  {
   "cell_type": "code",
   "execution_count": 9,
   "id": "f7cefdec-59e0-4080-9a20-6d841e5d6d5d",
   "metadata": {},
   "outputs": [
    {
     "name": "stdout",
     "output_type": "stream",
     "text": [
      "2\n",
      "3\n",
      "4\n",
      "5\n",
      "6\n",
      "7\n",
      "8\n",
      "9\n"
     ]
    }
   ],
   "source": [
    "for i in range(2,10):\n",
    "    print(i)\n"
   ]
  },
  {
   "cell_type": "code",
   "execution_count": 10,
   "id": "57b56c64-54c1-420c-aebc-19ba14c40c14",
   "metadata": {},
   "outputs": [
    {
     "name": "stdout",
     "output_type": "stream",
     "text": [
      "2\n",
      "4\n",
      "6\n",
      "8\n"
     ]
    }
   ],
   "source": [
    "for i in range(2,10,2):\n",
    "    print(i)"
   ]
  },
  {
   "cell_type": "code",
   "execution_count": 8,
   "id": "57f645ee-988c-419d-815e-8a99fc83d364",
   "metadata": {},
   "outputs": [
    {
     "name": "stdout",
     "output_type": "stream",
     "text": [
      "10\n",
      "9\n",
      "8\n",
      "7\n",
      "6\n",
      "5\n",
      "4\n",
      "3\n",
      "2\n",
      "1\n"
     ]
    }
   ],
   "source": [
    "#print numbers from 100 to 1.\n",
    "for i in range(10,0,-1):\n",
    "    print(i)"
   ]
  },
  {
   "cell_type": "code",
   "execution_count": 1,
   "id": "a0ebf0e4-42f6-4d6c-a322-e2b1aa2b79b9",
   "metadata": {},
   "outputs": [
    {
     "name": "stdout",
     "output_type": "stream",
     "text": [
      "15\n",
      "14\n",
      "13\n",
      "12\n",
      "11\n",
      "10\n",
      "9\n",
      "8\n",
      "7\n",
      "6\n",
      "5\n",
      "4\n",
      "3\n",
      "2\n",
      "1\n"
     ]
    }
   ],
   "source": [
    "i=15\n",
    "while i>=1:\n",
    "    print(i)\n",
    "    i-=1"
   ]
  },
  {
   "cell_type": "code",
   "execution_count": 6,
   "id": "a0688f65-5565-403d-8abe-31b44eeabc6b",
   "metadata": {},
   "outputs": [
    {
     "name": "stdin",
     "output_type": "stream",
     "text": [
      "any numbers 23\n"
     ]
    },
    {
     "name": "stdout",
     "output_type": "stream",
     "text": [
      "23\n",
      "46\n",
      "69\n",
      "92\n",
      "115\n",
      "138\n",
      "161\n",
      "184\n",
      "207\n",
      "230\n"
     ]
    }
   ],
   "source": [
    "#print the multiplication table of a number n.\n",
    "n=int(input('any numbers'))\n",
    "i=1\n",
    "while i<=10:\n",
    "    print(i*n)\n",
    "    i+=1"
   ]
  },
  {
   "cell_type": "code",
   "execution_count": 12,
   "id": "ab93b714-13cc-4365-a2d7-b841414a7199",
   "metadata": {},
   "outputs": [
    {
     "name": "stdin",
     "output_type": "stream",
     "text": [
      "enter any number 4\n"
     ]
    },
    {
     "name": "stdout",
     "output_type": "stream",
     "text": [
      "4\n",
      "8\n",
      "12\n",
      "16\n",
      "20\n",
      "24\n",
      "28\n",
      "32\n",
      "36\n",
      "40\n"
     ]
    }
   ],
   "source": [
    "#print the multiplication table of a number n.\n",
    "n=int(input('enter any number'))\n",
    "for i in range(1,11):\n",
    "    print(i*n)"
   ]
  },
  {
   "cell_type": "code",
   "execution_count": 13,
   "id": "7edc6f8e-0c4a-4d39-90c3-a14f6e114abf",
   "metadata": {},
   "outputs": [
    {
     "name": "stdout",
     "output_type": "stream",
     "text": [
      "some useful work\n"
     ]
    }
   ],
   "source": [
    "if i >5:\n",
    "    pass\n",
    "print('some useful work')"
   ]
  },
  {
   "cell_type": "code",
   "execution_count": 10,
   "id": "01de3807-772c-4ed0-af0d-028754212501",
   "metadata": {},
   "outputs": [
    {
     "name": "stdin",
     "output_type": "stream",
     "text": [
      "enter any number 5\n"
     ]
    },
    {
     "name": "stdout",
     "output_type": "stream",
     "text": [
      "total sum is = 15\n"
     ]
    }
   ],
   "source": [
    "#wap to find the sum of first n numbers. \n",
    "n=int(input('enter any number'))\n",
    "sum=0\n",
    "for i in range(1,n+1):\n",
    "    sum+=i\n",
    "print('total sum is =',sum)"
   ]
  },
  {
   "cell_type": "code",
   "execution_count": 14,
   "id": "a51d2018-eabb-4dbb-a7be-2dd53267dea0",
   "metadata": {},
   "outputs": [
    {
     "name": "stdin",
     "output_type": "stream",
     "text": [
      "enter number 7\n"
     ]
    },
    {
     "name": "stdout",
     "output_type": "stream",
     "text": [
      "sum= 28\n"
     ]
    }
   ],
   "source": [
    "#or\n",
    "n=int(input('enter number'))\n",
    "sum=0\n",
    "i=1\n",
    "while i<=n:\n",
    "    sum+=i\n",
    "    i+=1\n",
    "print('sum=',sum)\n",
    "      "
   ]
  },
  {
   "cell_type": "code",
   "execution_count": 15,
   "id": "89fa911a-5734-4ff5-9165-fb44b86c0581",
   "metadata": {},
   "outputs": [
    {
     "name": "stdin",
     "output_type": "stream",
     "text": [
      "enter any number 6\n"
     ]
    },
    {
     "name": "stdout",
     "output_type": "stream",
     "text": [
      "factorial= 720\n"
     ]
    }
   ],
   "source": [
    "#wap to find the factorial of first n numbers.\n",
    "n=int(input('enter any number'))\n",
    "fac=1\n",
    "i=1\n",
    "while i<=n:\n",
    "    fac*=i\n",
    "    i+=1\n",
    "print('factorial=',fac)"
   ]
  },
  {
   "cell_type": "code",
   "execution_count": 16,
   "id": "9f76d335-d7c3-4f03-b4ac-96f3fd37f651",
   "metadata": {},
   "outputs": [
    {
     "name": "stdin",
     "output_type": "stream",
     "text": [
      "enter any number 5\n"
     ]
    },
    {
     "name": "stdout",
     "output_type": "stream",
     "text": [
      "factorial= 120\n"
     ]
    }
   ],
   "source": [
    "#or\n",
    "#wap to find the factorial of first n numbers.\n",
    "n=int(input('enter any number'))\n",
    "fac=1\n",
    "for i in range(1,n+1):\n",
    "    fac*=i\n",
    "print('factorial=',fac)\n"
   ]
  },
  {
   "cell_type": "code",
   "execution_count": 1,
   "id": "af73f7e2-154d-4dff-972c-f070c7c4afec",
   "metadata": {},
   "outputs": [
    {
     "name": "stdout",
     "output_type": "stream",
     "text": [
      "15\n"
     ]
    },
    {
     "data": {
      "text/plain": [
       "15"
      ]
     },
     "execution_count": 1,
     "metadata": {},
     "output_type": "execute_result"
    }
   ],
   "source": [
    "#function = block of statements that perform a specific task. \n",
    "#def fun_name(parameter1, parameter2.....)\n",
    "#return value\n",
    "def calc_sum(a,b):\n",
    "    sum=a+b\n",
    "    print(sum)\n",
    "    return sum\n",
    "calc_sum(5,10)"
   ]
  },
  {
   "cell_type": "code",
   "execution_count": 2,
   "id": "3d29d187-9f30-45f7-b75a-339d4d519908",
   "metadata": {},
   "outputs": [
    {
     "name": "stdout",
     "output_type": "stream",
     "text": [
      "27\n"
     ]
    },
    {
     "data": {
      "text/plain": [
       "27"
      ]
     },
     "execution_count": 2,
     "metadata": {},
     "output_type": "execute_result"
    }
   ],
   "source": [
    " calc_sum(12,15)"
   ]
  },
  {
   "cell_type": "code",
   "execution_count": 2,
   "id": "88a68892-7fa4-4f94-a986-78e82a1653af",
   "metadata": {},
   "outputs": [
    {
     "name": "stdout",
     "output_type": "stream",
     "text": [
      "4.0\n"
     ]
    },
    {
     "data": {
      "text/plain": [
       "4.0"
      ]
     },
     "execution_count": 2,
     "metadata": {},
     "output_type": "execute_result"
    }
   ],
   "source": [
    "#average of 3 numbers\n",
    "\n",
    "def calc_avg(a,b,c):\n",
    "    avg=(a+b+c)/3\n",
    "    print(avg)\n",
    "    return avg \n",
    "\n",
    "calc_avg(2,4,6)\n"
   ]
  },
  {
   "cell_type": "code",
   "execution_count": 6,
   "id": "321cb5df-1c37-4e0a-96c4-abe15936e257",
   "metadata": {},
   "outputs": [
    {
     "name": "stdout",
     "output_type": "stream",
     "text": [
      "27.0\n"
     ]
    }
   ],
   "source": [
    "#or \n",
    "def calc_avg(a,b,c):\n",
    "    sum=a+b+c\n",
    "    avg=sum/3\n",
    "    print(avg)\n",
    "\n",
    "calc_avg(34,6,41)"
   ]
  },
  {
   "cell_type": "code",
   "execution_count": 5,
   "id": "25eebd88-6a02-441e-a322-25c63024cd0a",
   "metadata": {},
   "outputs": [
    {
     "name": "stdout",
     "output_type": "stream",
     "text": [
      "3\n"
     ]
    }
   ],
   "source": [
    "city=['mau', 'ghazipur','varanasi']\n",
    "def print_len(list):\n",
    "    print(len(list))\n",
    "\n",
    "print_len(city)"
   ]
  },
  {
   "cell_type": "code",
   "execution_count": 6,
   "id": "ad15eae1-e23d-4828-a6df-309cf008c997",
   "metadata": {},
   "outputs": [
    {
     "name": "stdout",
     "output_type": "stream",
     "text": [
      "ghazipur\n"
     ]
    }
   ],
   "source": [
    "print(city[1])\n"
   ]
  },
  {
   "cell_type": "code",
   "execution_count": 7,
   "id": "2ff2421e-13ff-4d3d-a532-66f6810931cf",
   "metadata": {},
   "outputs": [
    {
     "name": "stdout",
     "output_type": "stream",
     "text": [
      "8\n"
     ]
    }
   ],
   "source": [
    "print_len(city[1])"
   ]
  },
  {
   "cell_type": "code",
   "execution_count": 11,
   "id": "8446bf6f-9e62-4ae0-8e9f-39b78236dcb4",
   "metadata": {},
   "outputs": [
    {
     "name": "stdout",
     "output_type": "stream",
     "text": [
      "thor ironman shaktiman "
     ]
    }
   ],
   "source": [
    "heroes=['thor', 'ironman', 'shaktiman']\n",
    "def print_list(list):\n",
    "    for i in list:\n",
    "        print(i, end=' ')\n",
    "\n",
    "print_list(heroes)"
   ]
  },
  {
   "cell_type": "code",
   "execution_count": 20,
   "id": "1ced824f-3c70-481b-9282-31cfe26ff7f4",
   "metadata": {},
   "outputs": [
    {
     "name": "stdout",
     "output_type": "stream",
     "text": [
      "720\n"
     ]
    }
   ],
   "source": [
    "def cal_fac(n):\n",
    "    fac=1\n",
    "    for i in range(1,n+1):\n",
    "        fac*=i\n",
    "    print(fac)\n",
    "\n",
    "cal_fac(6)"
   ]
  },
  {
   "cell_type": "code",
   "execution_count": 23,
   "id": "d02a5445-9c59-478b-8572-f38d8647bb8e",
   "metadata": {},
   "outputs": [
    {
     "name": "stdout",
     "output_type": "stream",
     "text": [
      "69 USD= 5727 INR\n"
     ]
    }
   ],
   "source": [
    "#waf to convert USD to INR.\n",
    "\n",
    "def converter(usd_val):\n",
    "    inr_val=usd_val * 83\n",
    "    print(usd_val,\"USD=\", inr_val, \"INR\")\n",
    "converter(69)"
   ]
  },
  {
   "cell_type": "code",
   "execution_count": 1,
   "id": "894e019e-ddae-4e94-bfc3-c72fd6c92105",
   "metadata": {},
   "outputs": [],
   "source": [
    " #recursion \n",
    "#prints n to 1 backwards \n",
    "\n",
    "def show(n):\n",
    "    if n==0:\n",
    "        return\n",
    "    print(n)\n",
    "     show(n-1)\n",
    "        "
   ]
  },
  {
   "cell_type": "code",
   "execution_count": 3,
   "id": "6a11d0d1-e427-40e7-8b72-753abc2a8abd",
   "metadata": {},
   "outputs": [
    {
     "name": "stdout",
     "output_type": "stream",
     "text": [
      "5\n",
      "4\n",
      "3\n",
      "2\n",
      "1\n"
     ]
    }
   ],
   "source": [
    "def show(n):\n",
    "    if n==0:\n",
    "        return\n",
    "    print(n)\n",
    "    show(n-1)\n",
    "\n",
    "show(5)"
   ]
  },
  {
   "cell_type": "code",
   "execution_count": 4,
   "id": "f7f3f2c1-0b9e-4bcb-afb5-82f43872473e",
   "metadata": {},
   "outputs": [
    {
     "data": {
      "text/plain": [
       "720"
      ]
     },
     "execution_count": 4,
     "metadata": {},
     "output_type": "execute_result"
    }
   ],
   "source": [
    "#returns n!\n",
    "\n",
    "def fact(n):\n",
    "    if(n==0 or n==1):\n",
    "        return 1\n",
    "    else:\n",
    "        return n*fact(n-1)\n",
    "fact(6)"
   ]
  },
  {
   "cell_type": "code",
   "execution_count": 10,
   "id": "7c762c72-49ea-4914-a196-0b56c3c817db",
   "metadata": {},
   "outputs": [
    {
     "name": "stdin",
     "output_type": "stream",
     "text": [
      "enter number 5\n"
     ]
    },
    {
     "name": "stdout",
     "output_type": "stream",
     "text": [
      "15\n"
     ]
    }
   ],
   "source": [
    "n=int(input('enter number'))\n",
    "sum=0\n",
    "for i in range(1,n+1):\n",
    "    sum+=i\n",
    "print(sum)"
   ]
  },
  {
   "cell_type": "code",
   "execution_count": 15,
   "id": "81a40722-83fa-44de-859c-a09329a98d97",
   "metadata": {},
   "outputs": [
    {
     "data": {
      "text/plain": [
       "21"
      ]
     },
     "execution_count": 15,
     "metadata": {},
     "output_type": "execute_result"
    }
   ],
   "source": [
    "def sum(n):\n",
    "    if(n==0 and n==n):\n",
    "        return n\n",
    "    else:\n",
    "        return n+sum(n-1)\n",
    "sum(6)"
   ]
  },
  {
   "cell_type": "code",
   "execution_count": 22,
   "id": "484034fe-14b7-4768-ae1b-b6fd11e11de8",
   "metadata": {},
   "outputs": [
    {
     "name": "stdout",
     "output_type": "stream",
     "text": [
      "sujeet\n"
     ]
    }
   ],
   "source": [
    "list=['suraj','1','12','ayush','sujeet']\n",
    "print(list[4])"
   ]
  },
  {
   "cell_type": "code",
   "execution_count": null,
   "id": "65ef9079-2991-45cb-b08b-2451d3ee06b4",
   "metadata": {},
   "outputs": [],
   "source": []
  }
 ],
 "metadata": {
  "kernelspec": {
   "display_name": "Python [conda env:base] *",
   "language": "python",
   "name": "conda-base-py"
  },
  "language_info": {
   "codemirror_mode": {
    "name": "ipython",
    "version": 3
   },
   "file_extension": ".py",
   "mimetype": "text/x-python",
   "name": "python",
   "nbconvert_exporter": "python",
   "pygments_lexer": "ipython3",
   "version": "3.13.5"
  }
 },
 "nbformat": 4,
 "nbformat_minor": 5
}
