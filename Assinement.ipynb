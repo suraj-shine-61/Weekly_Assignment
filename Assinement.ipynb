{
 "cells": [
  {
   "cell_type": "code",
   "execution_count": 33,
   "id": "fa2a590f-3567-4d16-8034-95aa1cebc8e5",
   "metadata": {},
   "outputs": [
    {
     "name": "stdout",
     "output_type": "stream",
     "text": [
      "0\n",
      "1\n",
      "2\n",
      "3\n",
      "4\n",
      "5\n",
      "6\n",
      "7\n",
      "8\n",
      "9\n",
      "10\n"
     ]
    }
   ],
   "source": [
    "#question3\n",
    "list=[1,2,3,44,52,543,53,233,523,563,200]\n",
    "idx=0\n",
    "for i in list:\n",
    "    if i==i:\n",
    "        print(idx)\n",
    "    idx+=1"
   ]
  },
  {
   "cell_type": "code",
   "execution_count": 64,
   "id": "0ac33d76-62c9-4281-8b5d-7d417ca02c19",
   "metadata": {},
   "outputs": [
    {
     "name": "stdout",
     "output_type": "stream",
     "text": [
      "3\n",
      "3\n",
      "4\n",
      "6\n"
     ]
    }
   ],
   "source": [
    "#question 5\n",
    "list=['cat','dog','fear','center']\n",
    "for i in list:\n",
    "    print(len(i))\n",
    "    \n"
   ]
  },
  {
   "cell_type": "code",
   "execution_count": 2,
   "id": "90d7100c-be0a-418b-a5e5-37a78744d42f",
   "metadata": {},
   "outputs": [
    {
     "name": "stdout",
     "output_type": "stream",
     "text": [
      "3\n",
      "3\n",
      "7\n",
      "2\n",
      "4\n"
     ]
    }
   ],
   "source": [
    "list=['cat','dog','shatter','at','todo']\n",
    "for i in list:\n",
    "    print(len(i))"
   ]
  },
  {
   "cell_type": "code",
   "execution_count": 33,
   "id": "bac363cc-b59b-4994-ba9f-afba5a9dbad8",
   "metadata": {},
   "outputs": [
    {
     "name": "stdin",
     "output_type": "stream",
     "text": [
      "enter first number: 78\n",
      "enter second number: 5\n"
     ]
    },
    {
     "name": "stdout",
     "output_type": "stream",
     "text": [
      "gcd of the numbers is= 1\n"
     ]
    }
   ],
   "source": [
    "#Question -1\n",
    "#take two input from the users, starts gcd from 1\n",
    "#i belongs to a,b\n",
    "#a%i=0 and b%i=0 then gcd=i,print(gcd).\n",
    "\n",
    "a=int(input('enter first number:'))\n",
    "b=int(input('enter second number:'))\n",
    "gcd=1\n",
    "for i in (a,b):\n",
    "    if(a%i==0 and b%i==0):\n",
    "        gcd=i\n",
    "\n",
    "print ('gcd of the numbers is=',gcd)\n",
    "    \n"
   ]
  },
  {
   "cell_type": "code",
   "execution_count": 10,
   "id": "88af6905-981d-43b7-a873-6e4318ce2b88",
   "metadata": {},
   "outputs": [
    {
     "name": "stdin",
     "output_type": "stream",
     "text": [
      "enter any number 5\n"
     ]
    },
    {
     "name": "stdout",
     "output_type": "stream",
     "text": [
      "factorial= 120\n"
     ]
    }
   ],
   "source": [
    "#Question - 2\n",
    "#take a positive integer from user=n\n",
    "#start factorial from 1, i in range of (1,n+1)\n",
    "#fac=n*(n-1)*(n-2)*-----*1\n",
    "\n",
    "n=int(input('enter any number'))\n",
    "fac=1\n",
    "for i in range(1,n+1):\n",
    "    fac*=i\n",
    "print('factorial=',fac)"
   ]
  },
  {
   "cell_type": "code",
   "execution_count": 56,
   "id": "bdc3ec68-079b-4288-888c-ec3cfb11b28d",
   "metadata": {},
   "outputs": [
    {
     "name": "stdin",
     "output_type": "stream",
     "text": [
      "enter the digit: 1234\n"
     ]
    },
    {
     "name": "stdout",
     "output_type": "stream",
     "text": [
      "10\n"
     ]
    }
   ],
   "source": [
    "#Question - 3\n",
    "#take input from user, start sum from 0\n",
    "# i=n, means every digits=i, late n=23 then i=2,i=3\n",
    "#sum=sum+digit\n",
    "\n",
    "n=input('enter the digit:')\n",
    "sum=0\n",
    "for i in n:\n",
    "    sum+=int(i)\n",
    "print(sum)\n",
    "    "
   ]
  },
  {
   "cell_type": "code",
   "execution_count": 20,
   "id": "190dc74e-cb12-498d-b28c-0d0de30c8cb7",
   "metadata": {},
   "outputs": [
    {
     "name": "stdin",
     "output_type": "stream",
     "text": [
      "enter any year 1900\n"
     ]
    },
    {
     "name": "stdout",
     "output_type": "stream",
     "text": [
      "not a leap year\n"
     ]
    }
   ],
   "source": [
    "#Question - 4\n",
    "#take input from user\n",
    "#for end of century we have to divides with 400\n",
    "#if value is 0 then leap year\n",
    "#if value is not 0 then not leap year\n",
    "\n",
    "year=int(input('enter any year'))\n",
    "if year%400==0:\n",
    "    print('leap year')\n",
    "else:\n",
    "    print('not a leap year')"
   ]
  },
  {
   "cell_type": "code",
   "execution_count": 21,
   "id": "733e3746-cad2-4de7-9de4-a2a4dc67e2d8",
   "metadata": {},
   "outputs": [
    {
     "name": "stdin",
     "output_type": "stream",
     "text": [
      "enter any number 2024\n"
     ]
    },
    {
     "name": "stdout",
     "output_type": "stream",
     "text": [
      "leap year\n"
     ]
    }
   ],
   "source": [
    "#for other than end of century\n",
    "#we have to divides with 4 and all are same.\n",
    "year = int(input('enter any number'))\n",
    "if year%4==0:\n",
    "    print('leap year')\n",
    "else: \n",
    "    print('not a leap year')"
   ]
  },
  {
   "cell_type": "code",
   "execution_count": 49,
   "id": "fbd447fc-a898-4003-bc67-94648d426c14",
   "metadata": {},
   "outputs": [
    {
     "name": "stdin",
     "output_type": "stream",
     "text": [
      "enter any time 17\n"
     ]
    },
    {
     "name": "stdout",
     "output_type": "stream",
     "text": [
      "good evening\n"
     ]
    }
   ],
   "source": [
    "#Question - 5\n",
    "#take input from user, we can use 24 hours.\n",
    "\n",
    "time=float(input('enter any time'))\n",
    "if 00<time<=12:\n",
    "    print('Good morning')\n",
    "if 13<=time<17:\n",
    "    print('Good afternoon')\n",
    "if 17<=time<=24:\n",
    "    print('good evening')"
   ]
  },
  {
   "cell_type": "code",
   "execution_count": 52,
   "id": "6e094fda-4dcb-419c-85ad-cfa3eb96e567",
   "metadata": {},
   "outputs": [
    {
     "name": "stdin",
     "output_type": "stream",
     "text": [
      "you want to play(yes or no): yes\n",
      "enter your name suraj\n"
     ]
    },
    {
     "name": "stdout",
     "output_type": "stream",
     "text": [
      "suraj welcome play the game\n"
     ]
    },
    {
     "name": "stdin",
     "output_type": "stream",
     "text": [
      "enter 0 for rock:,1 for paper:,2 for scissors: 1\n"
     ]
    },
    {
     "name": "stdout",
     "output_type": "stream",
     "text": [
      "you lost\n"
     ]
    },
    {
     "name": "stdin",
     "output_type": "stream",
     "text": [
      "you want to play(yes or no): yes\n",
      "enter your name suraj\n"
     ]
    },
    {
     "name": "stdout",
     "output_type": "stream",
     "text": [
      "suraj welcome play the game\n"
     ]
    },
    {
     "name": "stdin",
     "output_type": "stream",
     "text": [
      "enter 0 for rock:,1 for paper:,2 for scissors: 1\n"
     ]
    },
    {
     "name": "stdout",
     "output_type": "stream",
     "text": [
      "you win\n"
     ]
    },
    {
     "name": "stdin",
     "output_type": "stream",
     "text": [
      "you want to play(yes or no): yes\n",
      "enter your name suraj\n"
     ]
    },
    {
     "name": "stdout",
     "output_type": "stream",
     "text": [
      "suraj welcome play the game\n"
     ]
    },
    {
     "name": "stdin",
     "output_type": "stream",
     "text": [
      "enter 0 for rock:,1 for paper:,2 for scissors: 2\n"
     ]
    },
    {
     "name": "stdout",
     "output_type": "stream",
     "text": [
      "you lost\n"
     ]
    },
    {
     "name": "stdin",
     "output_type": "stream",
     "text": [
      "you want to play(yes or no): no\n"
     ]
    },
    {
     "name": "stdout",
     "output_type": "stream",
     "text": [
      "you win: 1\n",
      "you lost: 2\n",
      "tie : 0\n"
     ]
    }
   ],
   "source": [
    "#Question-6\n",
    "#take random option from system and input from user, starts all from 0.\n",
    "#use while , if ,elif and else to solve it and also break and print the result.\n",
    "import random\n",
    "l=['rock','paper','scissors']\n",
    "w=0\n",
    "l=0\n",
    "t=0\n",
    "while True:\n",
    "    a=input('you want to play(yes or no):')\n",
    "    if a=='yes':\n",
    "        name=input(\"enter your name\")\n",
    "        print(name,'welcome play the game')\n",
    "        num=int(input(\"enter 0 for rock:,1 for paper:,2 for scissors:\"))\n",
    "        value=random.randint(0,2)\n",
    "        if value==0 and num==1 or value==1 and num==2 or value==2 and num==0:\n",
    "            w+=1\n",
    "            print('you win')\n",
    "        elif value==num:\n",
    "            print(\"It's tie\")\n",
    "            t+=1\n",
    "        else:\n",
    "            print('you lost')\n",
    "            l+=1\n",
    "    elif a=='no':\n",
    "         print('you win:',w)\n",
    "         print('you lost:',l)\n",
    "         print('tie :',t)\n",
    "         break\n",
    "            \n",
    " "
   ]
  },
  {
   "cell_type": "code",
   "execution_count": null,
   "id": "5c71b467-e803-4435-ad92-0895dc0f85fc",
   "metadata": {},
   "outputs": [],
   "source": []
  }
 ],
 "metadata": {
  "kernelspec": {
   "display_name": "Python [conda env:base] *",
   "language": "python",
   "name": "conda-base-py"
  },
  "language_info": {
   "codemirror_mode": {
    "name": "ipython",
    "version": 3
   },
   "file_extension": ".py",
   "mimetype": "text/x-python",
   "name": "python",
   "nbconvert_exporter": "python",
   "pygments_lexer": "ipython3",
   "version": "3.13.5"
  }
 },
 "nbformat": 4,
 "nbformat_minor": 5
}
